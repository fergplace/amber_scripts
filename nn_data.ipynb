{
 "cells": [
  {
   "cell_type": "code",
   "execution_count": 87,
   "metadata": {},
   "outputs": [],
   "source": [
    "import pandas as pd\n",
    "import numpy as np "
   ]
  },
  {
   "cell_type": "markdown",
   "metadata": {},
   "source": [
    "complex-name,gb-complex-etot,gb-complex-1-4-eel,gb-complex-eelec,gb-complex-egb,gb-complex-esurf,gb-protein-etot,gb-protein-1-4-eel,gb-protein-eelect,gb-protein-egb,gb-protein-esurf,gb-ligand-etot,gb-ligand-1-4-eel,gb-ligand-eelec,gb-ligand-egb,gb-ligand-esurf,pb-complex-etot,pb-complex-vdwaals,pb-complex-eelect,pb-complex-epb,pb-complex-ecavity,pb-protein-etot,pb-protein-vdwaals,pb-protein-eelec,pb-protein-epb,pb-protein-ecavity,pb-ligand-etot,pb-ligand-vdwaals,pb-ligand-eelec,pb-ligand-epb,pb-ligand-ecavity,ddg,enthalpy-gb,entropy"
   ]
  },
  {
   "cell_type": "code",
   "execution_count": 1,
   "metadata": {},
   "outputs": [],
   "source": [
    "file_name = \"FINAL_RESULTS_MMPBSA_tleap_6m0j_noHet_L461A.dat\""
   ]
  },
  {
   "cell_type": "code",
   "execution_count": 10,
   "metadata": {},
   "outputs": [],
   "source": [
    "mutations = [] \n",
    "delta_delta_g_gen = [] \n",
    "delta_delta_g_gen_error = []\n",
    "delta_delta_g_gen_66 = [] \n",
    "delta_delta_g_gen_66_error = []\n",
    "\n",
    "\n"
   ]
  },
  {
   "cell_type": "code",
   "execution_count": 96,
   "metadata": {},
   "outputs": [],
   "source": [
    "all_bond = [] \n",
    "all_angle = [] \n",
    "all_dihed = [] \n",
    "all_VDW = [] \n",
    "all_eel = [] \n",
    "all_1_4_VDW = [] \n",
    "all_1_4_eel = [] \n",
    "all_egb = [] \n",
    "all_esurf = [] \n",
    "all_gas = [] \n",
    "all_solv = [] \n",
    "all_e_total = [] \n",
    "k = 0 \n",
    "mut_cmplx = {}\n",
    "with open(file_name) as f :\n",
    "    data = f.readlines()\n",
    "    mutations.append(file_name.split(\"_\")[-1].split(\".\")[0])\n",
    "    c = 0\n",
    "    mut = file_name.split(\"_\")[-1].split(\".\")[0]\n",
    "    for line in data : \n",
    "        #gb-66 trigger \n",
    "        if (\"GENERALIZED BORN (GBNSR6)\" in line)  :\n",
    "            c +=1 \n",
    "\n",
    "        if c >=2 :     \n",
    "            if line.startswith(\"BOND\" ) :\n",
    "                all_bond.append(line.split()[1])\n",
    "            if line.startswith(\"ANGLE\" ) :\n",
    "                all_angle.append(line.split()[1])\n",
    "            if line.startswith(\"DIHED\" ) :\n",
    "                all_dihed.append(line.split()[1])\n",
    "            if line.startswith(\"VDWAALS\") :\n",
    "                all_VDW.append(line.split()[1])\n",
    "            if line.startswith(\"EEL \") :\n",
    "                all_eel.append(line.split()[1])\n",
    "                \n",
    "            if line.startswith(\"1-4 VDW\")  :\n",
    "                all_1_4_VDW.append(line.split()[2])\n",
    "                \n",
    "            if line.startswith(\"1-4 EEL\") :\n",
    "                all_1_4_eel.append(line.split()[2])\n",
    "            if line.startswith(\"EGB\")  :\n",
    "                all_egb.append(line.split()[1])\n",
    "            if line.startswith(\"ESURF\")  :\n",
    "                all_esurf.append(line.split()[1])\n",
    "            if line.startswith(\"G gas\")  :\n",
    "                all_gas.append(line.split()[2])\n",
    "            if line.startswith(\"G solv\") :\n",
    "                all_solv.append(line.split()[2])\n",
    "            if  line.startswith(\"TOTAL\"):\n",
    "                all_e_total.append(line.split()[1])\n",
    "                \n",
    "            \n",
    "            if line.startswith(\"Differences (Complex - Receptor - Ligand):\"):\n",
    "                break\n",
    "    data = np.array([all_e_total[0], all_1_4_eel[0], all_eel[0], all_egb[0], all_esurf[0], \n",
    "        all_e_total[1], all_1_4_eel[1], all_eel[1], all_egb[1], all_esurf[1],\n",
    "        all_e_total[2], all_1_4_eel[2], all_eel[2], all_egb[2], all_esurf[2]])\n",
    "    mut_cmplx[mut] = data"
   ]
  },
  {
   "cell_type": "markdown",
   "metadata": {},
   "source": [
    "complex, receptor, ligand "
   ]
  },
  {
   "cell_type": "code",
   "execution_count": 98,
   "metadata": {},
   "outputs": [],
   "source": [
    "# all_bond ,all_angle ,all_dihed ,all_VDW ,all_eel ,all_1_4_VDW ,\\\n",
    "#     all_1_4_eel  ,all_egb ,all_esurf  ,all_gas  ,all_solv  ,all_e_total  "
   ]
  },
  {
   "cell_type": "code",
   "execution_count": null,
   "metadata": {},
   "outputs": [],
   "source": [
    "\"complex-name\",\"gb-complex-etot\",\"gb-complex-1-4-eel\",\"gb-complex-eelec\",\"gb-complex-egb\",\"gb-complex-esurf\",\\\n",
    "    \"gb-protein-etot\",\"gb-protein-1-4-eel\",\"gb-protein-eelect\",\"gb-protein-egb\",\"gb-protein-esurf\",\\\n",
    "        \"gb-ligand-etot\",\"gb-ligand-1-4-eel\",\"gb-ligand-eelec\",\"gb-ligand-egb\",\"gb-ligand-esurf\",\\\n"
   ]
  },
  {
   "cell_type": "code",
   "execution_count": 58,
   "metadata": {},
   "outputs": [],
   "source": [
    "cols =np.array( [ \"gb-complex-etot\",\"gb-complex-1-4-eel\",\"gb-complex-eelec\",\"gb-complex-egb\",\"gb-complex-esurf\",\\\n",
    "    \"gb-protein-etot\",\"gb-protein-1-4-eel\",\"gb-protein-eelect\",\"gb-protein-egb\",\"gb-protein-esurf\",\\\n",
    "        \"gb-ligand-etot\",\"gb-ligand-1-4-eel\",\"gb-ligand-eelec\",\"gb-ligand-egb\",\"gb-ligand-esurf\"])\n"
   ]
  },
  {
   "cell_type": "code",
   "execution_count": 62,
   "metadata": {},
   "outputs": [],
   "source": [
    "data = np.array([all_e_total[0], all_1_4_eel[0], all_eel[0], all_egb[0], all_esurf[0], \n",
    "    all_e_total[1], all_1_4_eel[1], all_eel[1], all_egb[1], all_esurf[1],\n",
    "    all_e_total[2], all_1_4_eel[2], all_eel[2], all_egb[2], all_esurf[2]])"
   ]
  },
  {
   "cell_type": "code",
   "execution_count": 95,
   "metadata": {},
   "outputs": [
    {
     "data": {
      "text/html": [
       "<div>\n",
       "<style scoped>\n",
       "    .dataframe tbody tr th:only-of-type {\n",
       "        vertical-align: middle;\n",
       "    }\n",
       "\n",
       "    .dataframe tbody tr th {\n",
       "        vertical-align: top;\n",
       "    }\n",
       "\n",
       "    .dataframe thead th {\n",
       "        text-align: right;\n",
       "    }\n",
       "</style>\n",
       "<table border=\"1\" class=\"dataframe\">\n",
       "  <thead>\n",
       "    <tr style=\"text-align: right;\">\n",
       "      <th></th>\n",
       "      <th>gb-complex-etot</th>\n",
       "      <th>gb-complex-1-4-eel</th>\n",
       "      <th>gb-complex-eelec</th>\n",
       "      <th>gb-complex-egb</th>\n",
       "      <th>gb-complex-esurf</th>\n",
       "      <th>gb-protein-etot</th>\n",
       "      <th>gb-protein-1-4-eel</th>\n",
       "      <th>gb-protein-eelect</th>\n",
       "      <th>gb-protein-egb</th>\n",
       "      <th>gb-protein-esurf</th>\n",
       "      <th>gb-ligand-etot</th>\n",
       "      <th>gb-ligand-1-4-eel</th>\n",
       "      <th>gb-ligand-eelec</th>\n",
       "      <th>gb-ligand-egb</th>\n",
       "      <th>gb-ligand-esurf</th>\n",
       "    </tr>\n",
       "  </thead>\n",
       "  <tbody>\n",
       "    <tr>\n",
       "      <th>L461A</th>\n",
       "      <td>-23182.7452</td>\n",
       "      <td>34364.9329</td>\n",
       "      <td>-56028.3352</td>\n",
       "      <td>-11067.3707</td>\n",
       "      <td>233.8335</td>\n",
       "      <td>-17545.4633</td>\n",
       "      <td>27021.9287</td>\n",
       "      <td>-41701.7851</td>\n",
       "      <td>-10054.2076</td>\n",
       "      <td>177.8861</td>\n",
       "      <td>-5557.6580</td>\n",
       "      <td>7343.0042</td>\n",
       "      <td>-13592.9982</td>\n",
       "      <td>-1771.0676</td>\n",
       "      <td>69.6449</td>\n",
       "    </tr>\n",
       "  </tbody>\n",
       "</table>\n",
       "</div>"
      ],
      "text/plain": [
       "      gb-complex-etot gb-complex-1-4-eel gb-complex-eelec gb-complex-egb  \\\n",
       "L461A     -23182.7452         34364.9329      -56028.3352    -11067.3707   \n",
       "\n",
       "      gb-complex-esurf gb-protein-etot gb-protein-1-4-eel gb-protein-eelect  \\\n",
       "L461A         233.8335     -17545.4633         27021.9287       -41701.7851   \n",
       "\n",
       "      gb-protein-egb gb-protein-esurf gb-ligand-etot gb-ligand-1-4-eel  \\\n",
       "L461A    -10054.2076         177.8861     -5557.6580         7343.0042   \n",
       "\n",
       "      gb-ligand-eelec gb-ligand-egb gb-ligand-esurf  \n",
       "L461A     -13592.9982    -1771.0676         69.6449  "
      ]
     },
     "execution_count": 95,
     "metadata": {},
     "output_type": "execute_result"
    }
   ],
   "source": [
    "df2 = pd.DataFrame.from_dict(mut_cmplx, orient='index')\n",
    "df2.columns= cols\n",
    "df2"
   ]
  }
 ],
 "metadata": {
  "kernelspec": {
   "display_name": "Python 3",
   "language": "python",
   "name": "python3"
  },
  "language_info": {
   "codemirror_mode": {
    "name": "ipython",
    "version": 3
   },
   "file_extension": ".py",
   "mimetype": "text/x-python",
   "name": "python",
   "nbconvert_exporter": "python",
   "pygments_lexer": "ipython3",
   "version": "3.10.9"
  }
 },
 "nbformat": 4,
 "nbformat_minor": 2
}
