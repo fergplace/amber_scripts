{
 "cells": [
  {
   "cell_type": "markdown",
   "metadata": {},
   "source": [
    "# pymol "
   ]
  },
  {
   "cell_type": "markdown",
   "metadata": {},
   "source": [
    "```\n",
    "from pymol import cmd\n",
    "cmd.wizard(\"mutagenesis\")\n",
    "cmd.fetch(\"yourPDB.pdb\")\n",
    "cmd.get_wizard().set_mode(\"ARG\")\n",
    "cmd.get_wizard().do_select(\"chain A and resid 50\")\n",
    "cmd.get_wizard().apply()\n",
    "cmd.save(\"mutated_structure.pdb\")"
   ]
  },
  {
   "cell_type": "markdown",
   "metadata": {},
   "source": [
    "# modeller "
   ]
  },
  {
   "cell_type": "markdown",
   "metadata": {},
   "source": [
    "mut with some small MD\n",
    "https://salilab.org/modeller/wiki/Mutate_model"
   ]
  },
  {
   "cell_type": "markdown",
   "metadata": {},
   "source": [
    "https://pdb101.rcsb.org/motm/264\n",
    "\n",
    "\t\"#  Creates a single in silico point mutation to sidechain type and at residue position\n",
    "\t#  input by the user, in the structure whose file is modelname.pdb\n",
    "\t#  The conformation of the mutant sidechain is optimized by conjugate gradient and\n",
    "\t#  refined using some MD\""
   ]
  },
  {
   "cell_type": "markdown",
   "metadata": {},
   "source": [
    "# different mutations: \n"
   ]
  },
  {
   "cell_type": "markdown",
   "metadata": {},
   "source": [
    "One example of multiple point mutation: \n",
    "\n",
    "https://www.science.org/doi/10.1126/science.abi6226\n",
    "\n",
    "Note: there are multiple point mutations and deletion within the structures (so including the possibility for removal is nice as well )"
   ]
  },
  {
   "cell_type": "markdown",
   "metadata": {},
   "source": [
    "modeller has both mutation and deletion (might be the best bet)"
   ]
  },
  {
   "cell_type": "markdown",
   "metadata": {},
   "source": [
    "# Testing it: "
   ]
  },
  {
   "cell_type": "markdown",
   "metadata": {},
   "source": [
    "Run modeller on a set of SARS-Cov2 variants and compare with the pdb files "
   ]
  }
 ],
 "metadata": {
  "language_info": {
   "name": "python"
  }
 },
 "nbformat": 4,
 "nbformat_minor": 2
}
