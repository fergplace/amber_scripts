{
 "cells": [
  {
   "cell_type": "code",
   "execution_count": 1,
   "metadata": {},
   "outputs": [],
   "source": [
    "#data parsing notebook"
   ]
  },
  {
   "cell_type": "code",
   "execution_count": 3,
   "metadata": {},
   "outputs": [],
   "source": [
    "import glob"
   ]
  },
  {
   "cell_type": "code",
   "execution_count": 4,
   "metadata": {},
   "outputs": [],
   "source": [
    "tmp_file_loc = \"/*_dir/FINAL_RESULTS*\"\n",
    "tmp_file_names = glob.glob(tmp_file_loc)"
   ]
  },
  {
   "cell_type": "code",
   "execution_count": 25,
   "metadata": {},
   "outputs": [],
   "source": [
    "mutations = [] \n",
    "delta_delta_g_gen = [] \n",
    "delta_delta_g_gen_error = []\n",
    "delta_delta_g_gen_66 = [] \n",
    "delta_delta_g_gen_66_error = []\n",
    "\n"
   ]
  },
  {
   "cell_type": "code",
   "execution_count": 28,
   "metadata": {},
   "outputs": [],
   "source": [
    "def delta_delta_g_extract(file_name):\n",
    "    with open(file_name) as f :\n",
    "        data = f.readlines()\n",
    "        c = 0\n",
    "        for line in data : \n",
    "            if \"RESULT OF ALANINE SCANNING\" in line :\n",
    "                if c == 0 :\n",
    "                    mutations.append(line.split(\":\")[1].split()[0].replace(\"(\" , \"\").replace(\")\", \"\"))\n",
    "                    delta_delta_g_gen.append(\\\n",
    "                        line.split(\"=\")[1].split(\"+/-\")[0].strip()\n",
    "                        )\n",
    "                    delta_delta_g_gen_error.append(\\\n",
    "                        line.split(\"=\")[1].split(\"+/-\")[1].strip()\n",
    "                        )\n",
    "                    c +=1 \n",
    "                else: \n",
    "                    delta_delta_g_gen_66.append(\\\n",
    "                        line.split(\"=\")[1].split(\"+/-\")[0].strip()\n",
    "                        )\n",
    "                    delta_delta_g_gen_66_error.append(\\\n",
    "                        line.split(\"=\")[1].split(\"+/-\")[1].strip()\n",
    "                        )"
   ]
  },
  {
   "cell_type": "code",
   "execution_count": 18,
   "metadata": {},
   "outputs": [
    {
     "data": {
      "text/plain": [
       "['    0.0042  ', '    0.1006']"
      ]
     },
     "execution_count": 18,
     "metadata": {},
     "output_type": "execute_result"
    }
   ],
   "source": [
    "line = \"RESULT OF ALANINE SCANNING: (F607A) DELTA DELTA G binding =    0.0042  +/-    0.1006\"\n",
    "tmp_line = line.split(\"=\")[1].split(\"+/-\")\n",
    "tmp_line "
   ]
  },
  {
   "cell_type": "code",
   "execution_count": 26,
   "metadata": {},
   "outputs": [],
   "source": [
    "c = 0 \n",
    "\n",
    "if c == 0 :\n",
    "    mutations.append(line.split(\":\")[1].split()[0].replace(\"(\" , \"\").replace(\")\", \"\"))\n",
    "    delta_delta_g_gen.append(\\\n",
    "        line.split(\"=\")[1].split(\"+/-\")[0].strip()\n",
    "        )\n",
    "    delta_delta_g_gen_error.append(\\\n",
    "        line.split(\"=\")[1].split(\"+/-\")[1].strip()\n",
    "        )\n",
    "    c +=1 \n",
    "else : \n",
    "    delta_delta_g_gen_66.append(\\\n",
    "        line.split(\"=\")[1].split(\"+/-\")[0].strip()\n",
    "        )\n",
    "    delta_delta_g_gen_66_error.append(\\\n",
    "        line.split(\"=\")[1].split(\"+/-\")[1].strip()\n",
    "        )"
   ]
  },
  {
   "cell_type": "code",
   "execution_count": 27,
   "metadata": {},
   "outputs": [
    {
     "name": "stdout",
     "output_type": "stream",
     "text": [
      "['F607A'] ['0.0042'] ['0.1006'] [] []\n"
     ]
    }
   ],
   "source": [
    "print (mutations ,\n",
    "    delta_delta_g_gen  ,\n",
    "    delta_delta_g_gen_error ,\n",
    "    delta_delta_g_gen_66 ,\n",
    "    delta_delta_g_gen_66_error )"
   ]
  },
  {
   "cell_type": "code",
   "execution_count": null,
   "metadata": {},
   "outputs": [],
   "source": [
    "mutations = [] \n",
    "delta_delta_g_gen = [] \n",
    "delta_delta_g_gen_error = []\n",
    "delta_delta_g_gen_66 = [] \n",
    "delta_delta_g_gen_66_error = []\n",
    "\n",
    "for file_name in tmp_file_names:\n",
    "    delta_delta_g_extract(file_name)\n",
    "    \n",
    "for i in len(tmp_file_names) :\n",
    "    print(mutations[i] )\n",
    "    print(delta_delta_g_gen[i] )\n",
    "    print(delta_delta_g_gen_error[i] )\n",
    "    print(delta_delta_g_gen_66[i] )\n",
    "    print(delta_delta_g_gen_66_error[i] )"
   ]
  }
 ],
 "metadata": {
  "kernelspec": {
   "display_name": "Python 3",
   "language": "python",
   "name": "python3"
  },
  "language_info": {
   "codemirror_mode": {
    "name": "ipython",
    "version": 3
   },
   "file_extension": ".py",
   "mimetype": "text/x-python",
   "name": "python",
   "nbconvert_exporter": "python",
   "pygments_lexer": "ipython3",
   "version": "3.10.9"
  }
 },
 "nbformat": 4,
 "nbformat_minor": 2
}
