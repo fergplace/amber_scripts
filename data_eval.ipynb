{
 "cells": [
  {
   "cell_type": "code",
   "execution_count": 117,
   "metadata": {},
   "outputs": [],
   "source": [
    "import pandas as pd"
   ]
  },
  {
   "cell_type": "code",
   "execution_count": 118,
   "metadata": {},
   "outputs": [],
   "source": [
    "df_exp_data = pd.read_csv(\"simple_amino.csv\")\n",
    "df_true_data = pd.read_csv(\"single_mut_effects.csv\")"
   ]
  },
  {
   "cell_type": "code",
   "execution_count": 119,
   "metadata": {},
   "outputs": [],
   "source": [
    "exp_muts = df_exp_data[\"mutations\"]"
   ]
  },
  {
   "cell_type": "code",
   "execution_count": 120,
   "metadata": {},
   "outputs": [],
   "source": [
    "true_muts = df_true_data[\"mutation\"]"
   ]
  },
  {
   "cell_type": "code",
   "execution_count": 121,
   "metadata": {},
   "outputs": [],
   "source": [
    "#exp_muts = df_exp_data[\"mutations\"]"
   ]
  },
  {
   "cell_type": "code",
   "execution_count": 122,
   "metadata": {},
   "outputs": [
    {
     "data": {
      "text/html": [
       "<div>\n",
       "<style scoped>\n",
       "    .dataframe tbody tr th:only-of-type {\n",
       "        vertical-align: middle;\n",
       "    }\n",
       "\n",
       "    .dataframe tbody tr th {\n",
       "        vertical-align: top;\n",
       "    }\n",
       "\n",
       "    .dataframe thead th {\n",
       "        text-align: right;\n",
       "    }\n",
       "</style>\n",
       "<table border=\"1\" class=\"dataframe\">\n",
       "  <thead>\n",
       "    <tr style=\"text-align: right;\">\n",
       "      <th></th>\n",
       "      <th>site_RBD</th>\n",
       "      <th>site_SARS2</th>\n",
       "      <th>wildtype</th>\n",
       "      <th>mutant</th>\n",
       "      <th>mutation</th>\n",
       "      <th>mutation_RBD</th>\n",
       "      <th>bind_lib1</th>\n",
       "      <th>bind_lib2</th>\n",
       "      <th>bind_avg</th>\n",
       "      <th>expr_lib1</th>\n",
       "      <th>expr_lib2</th>\n",
       "      <th>expr_avg</th>\n",
       "    </tr>\n",
       "  </thead>\n",
       "  <tbody>\n",
       "    <tr>\n",
       "      <th>0</th>\n",
       "      <td>1</td>\n",
       "      <td>331</td>\n",
       "      <td>N</td>\n",
       "      <td>A</td>\n",
       "      <td>N331A</td>\n",
       "      <td>N1A</td>\n",
       "      <td>-0.05</td>\n",
       "      <td>-0.02</td>\n",
       "      <td>-0.03</td>\n",
       "      <td>-0.14</td>\n",
       "      <td>-0.08</td>\n",
       "      <td>-0.11</td>\n",
       "    </tr>\n",
       "    <tr>\n",
       "      <th>1</th>\n",
       "      <td>1</td>\n",
       "      <td>331</td>\n",
       "      <td>N</td>\n",
       "      <td>C</td>\n",
       "      <td>N331C</td>\n",
       "      <td>N1C</td>\n",
       "      <td>-0.08</td>\n",
       "      <td>-0.10</td>\n",
       "      <td>-0.09</td>\n",
       "      <td>-1.56</td>\n",
       "      <td>-0.97</td>\n",
       "      <td>-1.26</td>\n",
       "    </tr>\n",
       "    <tr>\n",
       "      <th>2</th>\n",
       "      <td>1</td>\n",
       "      <td>331</td>\n",
       "      <td>N</td>\n",
       "      <td>D</td>\n",
       "      <td>N331D</td>\n",
       "      <td>N1D</td>\n",
       "      <td>0.00</td>\n",
       "      <td>0.07</td>\n",
       "      <td>0.03</td>\n",
       "      <td>-0.75</td>\n",
       "      <td>-0.12</td>\n",
       "      <td>-0.44</td>\n",
       "    </tr>\n",
       "    <tr>\n",
       "      <th>3</th>\n",
       "      <td>1</td>\n",
       "      <td>331</td>\n",
       "      <td>N</td>\n",
       "      <td>E</td>\n",
       "      <td>N331E</td>\n",
       "      <td>N1E</td>\n",
       "      <td>0.02</td>\n",
       "      <td>-0.02</td>\n",
       "      <td>0.00</td>\n",
       "      <td>-0.39</td>\n",
       "      <td>-0.24</td>\n",
       "      <td>-0.31</td>\n",
       "    </tr>\n",
       "    <tr>\n",
       "      <th>4</th>\n",
       "      <td>1</td>\n",
       "      <td>331</td>\n",
       "      <td>N</td>\n",
       "      <td>F</td>\n",
       "      <td>N331F</td>\n",
       "      <td>N1F</td>\n",
       "      <td>-0.03</td>\n",
       "      <td>-0.16</td>\n",
       "      <td>-0.10</td>\n",
       "      <td>-0.83</td>\n",
       "      <td>-0.57</td>\n",
       "      <td>-0.70</td>\n",
       "    </tr>\n",
       "    <tr>\n",
       "      <th>...</th>\n",
       "      <td>...</td>\n",
       "      <td>...</td>\n",
       "      <td>...</td>\n",
       "      <td>...</td>\n",
       "      <td>...</td>\n",
       "      <td>...</td>\n",
       "      <td>...</td>\n",
       "      <td>...</td>\n",
       "      <td>...</td>\n",
       "      <td>...</td>\n",
       "      <td>...</td>\n",
       "      <td>...</td>\n",
       "    </tr>\n",
       "    <tr>\n",
       "      <th>4216</th>\n",
       "      <td>201</td>\n",
       "      <td>531</td>\n",
       "      <td>T</td>\n",
       "      <td>T</td>\n",
       "      <td>T531T</td>\n",
       "      <td>T201T</td>\n",
       "      <td>0.00</td>\n",
       "      <td>0.00</td>\n",
       "      <td>0.00</td>\n",
       "      <td>0.00</td>\n",
       "      <td>0.00</td>\n",
       "      <td>0.00</td>\n",
       "    </tr>\n",
       "    <tr>\n",
       "      <th>4217</th>\n",
       "      <td>201</td>\n",
       "      <td>531</td>\n",
       "      <td>T</td>\n",
       "      <td>V</td>\n",
       "      <td>T531V</td>\n",
       "      <td>T201V</td>\n",
       "      <td>0.03</td>\n",
       "      <td>-0.02</td>\n",
       "      <td>0.01</td>\n",
       "      <td>-0.07</td>\n",
       "      <td>-0.05</td>\n",
       "      <td>-0.06</td>\n",
       "    </tr>\n",
       "    <tr>\n",
       "      <th>4218</th>\n",
       "      <td>201</td>\n",
       "      <td>531</td>\n",
       "      <td>T</td>\n",
       "      <td>W</td>\n",
       "      <td>T531W</td>\n",
       "      <td>T201W</td>\n",
       "      <td>0.02</td>\n",
       "      <td>-0.06</td>\n",
       "      <td>-0.02</td>\n",
       "      <td>-0.13</td>\n",
       "      <td>-0.04</td>\n",
       "      <td>-0.08</td>\n",
       "    </tr>\n",
       "    <tr>\n",
       "      <th>4219</th>\n",
       "      <td>201</td>\n",
       "      <td>531</td>\n",
       "      <td>T</td>\n",
       "      <td>Y</td>\n",
       "      <td>T531Y</td>\n",
       "      <td>T201Y</td>\n",
       "      <td>0.00</td>\n",
       "      <td>-0.03</td>\n",
       "      <td>-0.01</td>\n",
       "      <td>-0.03</td>\n",
       "      <td>-0.08</td>\n",
       "      <td>-0.05</td>\n",
       "    </tr>\n",
       "    <tr>\n",
       "      <th>4220</th>\n",
       "      <td>201</td>\n",
       "      <td>531</td>\n",
       "      <td>T</td>\n",
       "      <td>*</td>\n",
       "      <td>T531*</td>\n",
       "      <td>T201*</td>\n",
       "      <td>NaN</td>\n",
       "      <td>NaN</td>\n",
       "      <td>NaN</td>\n",
       "      <td>-4.59</td>\n",
       "      <td>-4.51</td>\n",
       "      <td>-4.55</td>\n",
       "    </tr>\n",
       "  </tbody>\n",
       "</table>\n",
       "<p>4221 rows × 12 columns</p>\n",
       "</div>"
      ],
      "text/plain": [
       "      site_RBD  site_SARS2 wildtype mutant mutation mutation_RBD  bind_lib1  \\\n",
       "0            1         331        N      A    N331A          N1A      -0.05   \n",
       "1            1         331        N      C    N331C          N1C      -0.08   \n",
       "2            1         331        N      D    N331D          N1D       0.00   \n",
       "3            1         331        N      E    N331E          N1E       0.02   \n",
       "4            1         331        N      F    N331F          N1F      -0.03   \n",
       "...        ...         ...      ...    ...      ...          ...        ...   \n",
       "4216       201         531        T      T    T531T        T201T       0.00   \n",
       "4217       201         531        T      V    T531V        T201V       0.03   \n",
       "4218       201         531        T      W    T531W        T201W       0.02   \n",
       "4219       201         531        T      Y    T531Y        T201Y       0.00   \n",
       "4220       201         531        T      *    T531*        T201*        NaN   \n",
       "\n",
       "      bind_lib2  bind_avg  expr_lib1  expr_lib2  expr_avg  \n",
       "0         -0.02     -0.03      -0.14      -0.08     -0.11  \n",
       "1         -0.10     -0.09      -1.56      -0.97     -1.26  \n",
       "2          0.07      0.03      -0.75      -0.12     -0.44  \n",
       "3         -0.02      0.00      -0.39      -0.24     -0.31  \n",
       "4         -0.16     -0.10      -0.83      -0.57     -0.70  \n",
       "...         ...       ...        ...        ...       ...  \n",
       "4216       0.00      0.00       0.00       0.00      0.00  \n",
       "4217      -0.02      0.01      -0.07      -0.05     -0.06  \n",
       "4218      -0.06     -0.02      -0.13      -0.04     -0.08  \n",
       "4219      -0.03     -0.01      -0.03      -0.08     -0.05  \n",
       "4220        NaN       NaN      -4.59      -4.51     -4.55  \n",
       "\n",
       "[4221 rows x 12 columns]"
      ]
     },
     "execution_count": 122,
     "metadata": {},
     "output_type": "execute_result"
    }
   ],
   "source": [
    "df_true_data"
   ]
  },
  {
   "cell_type": "code",
   "execution_count": 123,
   "metadata": {},
   "outputs": [
    {
     "data": {
      "text/html": [
       "<div>\n",
       "<style scoped>\n",
       "    .dataframe tbody tr th:only-of-type {\n",
       "        vertical-align: middle;\n",
       "    }\n",
       "\n",
       "    .dataframe tbody tr th {\n",
       "        vertical-align: top;\n",
       "    }\n",
       "\n",
       "    .dataframe thead th {\n",
       "        text-align: right;\n",
       "    }\n",
       "</style>\n",
       "<table border=\"1\" class=\"dataframe\">\n",
       "  <thead>\n",
       "    <tr style=\"text-align: right;\">\n",
       "      <th></th>\n",
       "      <th>site_RBD</th>\n",
       "      <th>site_SARS2</th>\n",
       "      <th>bind_lib1</th>\n",
       "      <th>bind_lib2</th>\n",
       "      <th>bind_avg</th>\n",
       "      <th>expr_lib1</th>\n",
       "      <th>expr_lib2</th>\n",
       "      <th>expr_avg</th>\n",
       "    </tr>\n",
       "  </thead>\n",
       "  <tbody>\n",
       "    <tr>\n",
       "      <th>count</th>\n",
       "      <td>4221.000000</td>\n",
       "      <td>4221.000000</td>\n",
       "      <td>3994.000000</td>\n",
       "      <td>3991.000000</td>\n",
       "      <td>4003.000000</td>\n",
       "      <td>4183.000000</td>\n",
       "      <td>4184.000000</td>\n",
       "      <td>4198.000000</td>\n",
       "    </tr>\n",
       "    <tr>\n",
       "      <th>mean</th>\n",
       "      <td>101.000000</td>\n",
       "      <td>431.000000</td>\n",
       "      <td>-0.920441</td>\n",
       "      <td>-0.968637</td>\n",
       "      <td>-0.943600</td>\n",
       "      <td>-1.203875</td>\n",
       "      <td>-1.166883</td>\n",
       "      <td>-1.184726</td>\n",
       "    </tr>\n",
       "    <tr>\n",
       "      <th>std</th>\n",
       "      <td>58.029858</td>\n",
       "      <td>58.029858</td>\n",
       "      <td>1.389299</td>\n",
       "      <td>1.412122</td>\n",
       "      <td>1.391609</td>\n",
       "      <td>1.273002</td>\n",
       "      <td>1.233323</td>\n",
       "      <td>1.243281</td>\n",
       "    </tr>\n",
       "    <tr>\n",
       "      <th>min</th>\n",
       "      <td>1.000000</td>\n",
       "      <td>331.000000</td>\n",
       "      <td>-4.760000</td>\n",
       "      <td>-4.840000</td>\n",
       "      <td>-4.840000</td>\n",
       "      <td>-4.710000</td>\n",
       "      <td>-4.650000</td>\n",
       "      <td>-4.650000</td>\n",
       "    </tr>\n",
       "    <tr>\n",
       "      <th>25%</th>\n",
       "      <td>51.000000</td>\n",
       "      <td>381.000000</td>\n",
       "      <td>-1.080000</td>\n",
       "      <td>-1.230000</td>\n",
       "      <td>-1.140000</td>\n",
       "      <td>-2.200000</td>\n",
       "      <td>-2.120000</td>\n",
       "      <td>-2.150000</td>\n",
       "    </tr>\n",
       "    <tr>\n",
       "      <th>50%</th>\n",
       "      <td>101.000000</td>\n",
       "      <td>431.000000</td>\n",
       "      <td>-0.255000</td>\n",
       "      <td>-0.300000</td>\n",
       "      <td>-0.280000</td>\n",
       "      <td>-0.740000</td>\n",
       "      <td>-0.730000</td>\n",
       "      <td>-0.740000</td>\n",
       "    </tr>\n",
       "    <tr>\n",
       "      <th>75%</th>\n",
       "      <td>151.000000</td>\n",
       "      <td>481.000000</td>\n",
       "      <td>-0.040000</td>\n",
       "      <td>-0.050000</td>\n",
       "      <td>-0.050000</td>\n",
       "      <td>-0.125000</td>\n",
       "      <td>-0.140000</td>\n",
       "      <td>-0.140000</td>\n",
       "    </tr>\n",
       "    <tr>\n",
       "      <th>max</th>\n",
       "      <td>201.000000</td>\n",
       "      <td>531.000000</td>\n",
       "      <td>0.360000</td>\n",
       "      <td>0.380000</td>\n",
       "      <td>0.300000</td>\n",
       "      <td>0.920000</td>\n",
       "      <td>1.000000</td>\n",
       "      <td>0.990000</td>\n",
       "    </tr>\n",
       "  </tbody>\n",
       "</table>\n",
       "</div>"
      ],
      "text/plain": [
       "          site_RBD   site_SARS2    bind_lib1    bind_lib2     bind_avg  \\\n",
       "count  4221.000000  4221.000000  3994.000000  3991.000000  4003.000000   \n",
       "mean    101.000000   431.000000    -0.920441    -0.968637    -0.943600   \n",
       "std      58.029858    58.029858     1.389299     1.412122     1.391609   \n",
       "min       1.000000   331.000000    -4.760000    -4.840000    -4.840000   \n",
       "25%      51.000000   381.000000    -1.080000    -1.230000    -1.140000   \n",
       "50%     101.000000   431.000000    -0.255000    -0.300000    -0.280000   \n",
       "75%     151.000000   481.000000    -0.040000    -0.050000    -0.050000   \n",
       "max     201.000000   531.000000     0.360000     0.380000     0.300000   \n",
       "\n",
       "         expr_lib1    expr_lib2     expr_avg  \n",
       "count  4183.000000  4184.000000  4198.000000  \n",
       "mean     -1.203875    -1.166883    -1.184726  \n",
       "std       1.273002     1.233323     1.243281  \n",
       "min      -4.710000    -4.650000    -4.650000  \n",
       "25%      -2.200000    -2.120000    -2.150000  \n",
       "50%      -0.740000    -0.730000    -0.740000  \n",
       "75%      -0.125000    -0.140000    -0.140000  \n",
       "max       0.920000     1.000000     0.990000  "
      ]
     },
     "execution_count": 123,
     "metadata": {},
     "output_type": "execute_result"
    }
   ],
   "source": [
    "df_true_data.describe()\n"
   ]
  },
  {
   "cell_type": "code",
   "execution_count": 124,
   "metadata": {},
   "outputs": [],
   "source": [
    "import numpy as np\n",
    "\n",
    "\n",
    "    "
   ]
  },
  {
   "cell_type": "code",
   "execution_count": 125,
   "metadata": {},
   "outputs": [],
   "source": [
    "true_muts_np= true_muts.to_numpy()"
   ]
  },
  {
   "cell_type": "code",
   "execution_count": 126,
   "metadata": {},
   "outputs": [
    {
     "data": {
      "text/plain": [
       "array(['N331A', 'N331C', 'N331D', ..., 'T531W', 'T531Y', 'T531*'],\n",
       "      dtype=object)"
      ]
     },
     "execution_count": 126,
     "metadata": {},
     "output_type": "execute_result"
    }
   ],
   "source": [
    "true_muts_np"
   ]
  },
  {
   "cell_type": "code",
   "execution_count": 127,
   "metadata": {},
   "outputs": [],
   "source": [
    "idx= []  \n",
    "for mut in exp_muts : \n",
    "    idx.append(np.where(true_muts_np == mut )[0][0] ) "
   ]
  },
  {
   "cell_type": "markdown",
   "metadata": {},
   "source": [
    "get data we want : "
   ]
  },
  {
   "cell_type": "code",
   "execution_count": 128,
   "metadata": {},
   "outputs": [],
   "source": [
    "\n",
    "\n",
    "#try with site_SARS2_val\n",
    "\n",
    "\n",
    "site_SARS2_val = df_true_data.iloc[idx][\"bind_avg\"].to_numpy() #changed from expr_avg to site_SARS2\n",
    "site_SARS2_val_converted = 298*1.98*1e-3 * np.log( 10 ) *site_SARS2_val "
   ]
  },
  {
   "cell_type": "code",
   "execution_count": 129,
   "metadata": {},
   "outputs": [
    {
     "data": {
      "text/plain": [
       "-14.141759785560145"
      ]
     },
     "execution_count": 129,
     "metadata": {},
     "output_type": "execute_result"
    }
   ],
   "source": [
    "#finding deltaGdeg :\n",
    "\n",
    "R = 1.98*1e-3\n",
    "T =298\n",
    "K_D_app = 3.9*1e-11\n",
    "\n",
    "delta_g_deg = R * T * np.log(K_D_app)\n",
    "delta_g_deg"
   ]
  },
  {
   "cell_type": "code",
   "execution_count": 130,
   "metadata": {},
   "outputs": [
    {
     "data": {
      "text/plain": [
       "array([-14.68520671, -15.31017067, -14.60368967, -14.83465461,\n",
       "       -14.5357588 , -20.66312287, -17.08995934, -17.33451046,\n",
       "       -14.22327682, -14.08741509, -15.03844721, -15.28299832,\n",
       "       -14.35913855, -15.4460324 , -17.48395836, -14.65803436,\n",
       "       -15.90796229, -15.50037709, -14.08741509, -14.68520671,\n",
       "       -14.78030992, -20.66312287, -19.34526408, -17.44319984,\n",
       "       -15.11996425, -14.1825183 , -14.29120769, -15.32375684,\n",
       "       -14.54934498, -14.20969065, -15.16072277, -14.16893213,\n",
       "       -15.96230698, -16.28837513, -13.99231188, -18.2719564 ,\n",
       "       -15.45961857, -15.48679092, -14.49500029, -15.26941215,\n",
       "       -14.19610448, -17.10354552, -14.943344  , -15.26941215,\n",
       "       -18.40781813, -15.20148129, -16.72313267, -14.15534596,\n",
       "       -15.32375684, -15.02486104, -20.41857175, -15.07920573,\n",
       "       -14.236863  , -15.06561956, -14.25044917, -15.31017067,\n",
       "       -14.26403534, -14.50858646, -14.5357588 , -19.65774606,\n",
       "       -14.10100127, -14.07382892, -16.12534106])"
      ]
     },
     "execution_count": 130,
     "metadata": {},
     "output_type": "execute_result"
    }
   ],
   "source": [
    "#try with div in the log:\n",
    "\n",
    "tmp_K_mut = 10**(site_SARS2_val) * K_D_app\n",
    "delta_g_othermethod = R * T * np.log(tmp_K_mut)\n",
    "delta_g_othermethod"
   ]
  },
  {
   "cell_type": "code",
   "execution_count": 131,
   "metadata": {},
   "outputs": [
    {
     "data": {
      "text/plain": [
       "array([-0.54344692, -1.16841089, -0.46192988, -0.69289483, -0.39399902,\n",
       "       -6.52136308, -2.94819956, -3.19275067, -0.08151704,  0.05434469,\n",
       "       -0.89668742, -1.14123854, -0.21737877, -1.30427262, -3.34219858,\n",
       "       -0.51627458, -1.7662025 , -1.35861731,  0.05434469, -0.54344692,\n",
       "       -0.63855013, -6.52136308, -5.20350429, -3.30144006, -0.97820446,\n",
       "       -0.04075852, -0.1494479 , -1.18199706, -0.40758519, -0.06793087,\n",
       "       -1.01896298, -0.02717235, -1.82054719, -2.14661535,  0.1494479 ,\n",
       "       -4.13019662, -1.31785879, -1.34503114, -0.3532405 , -1.12765237,\n",
       "       -0.05434469, -2.96178573, -0.80158421, -1.12765237, -4.26605835,\n",
       "       -1.0597215 , -2.58137289, -0.01358617, -1.18199706, -0.88310125,\n",
       "       -6.27681196, -0.93744594, -0.09510321, -0.92385977, -0.10868938,\n",
       "       -1.16841089, -0.12227556, -0.36682667, -0.39399902, -5.51598627,\n",
       "        0.04075852,  0.06793087, -1.98358127])"
      ]
     },
     "execution_count": 131,
     "metadata": {},
     "output_type": "execute_result"
    }
   ],
   "source": [
    "del_del_g_total =   delta_g_othermethod - delta_g_deg #i think signs are right here: \n",
    "del_del_g_total"
   ]
  },
  {
   "cell_type": "code",
   "execution_count": 132,
   "metadata": {},
   "outputs": [],
   "source": [
    "# site_SARS2_val*298*1.98*10e-3\n",
    "delta_K = site_SARS2_val\n",
    "#try: \n",
    "del_del_trial = R * T * np.log(K_D_app * ( 10**delta_K + K_D_app ) ) "
   ]
  },
  {
   "cell_type": "code",
   "execution_count": 133,
   "metadata": {},
   "outputs": [
    {
     "data": {
      "text/plain": [
       "array([-14.68520671, -15.31017067, -14.60368967, -14.83465461,\n",
       "       -14.5357588 , -20.66312141, -17.08995934, -17.33451045,\n",
       "       -14.22327682, -14.08741509, -15.03844721, -15.28299832,\n",
       "       -14.35913855, -15.4460324 , -17.48395836, -14.65803436,\n",
       "       -15.90796229, -15.50037709, -14.08741509, -14.68520671,\n",
       "       -14.78030992, -20.66312141, -19.34526392, -17.44319984,\n",
       "       -15.11996425, -14.1825183 , -14.29120769, -15.32375684,\n",
       "       -14.54934498, -14.20969065, -15.16072277, -14.16893213,\n",
       "       -15.96230698, -16.28837513, -13.99231188, -18.27195638,\n",
       "       -15.45961857, -15.48679092, -14.49500029, -15.26941215,\n",
       "       -14.19610448, -17.10354551, -14.943344  , -15.26941215,\n",
       "       -18.4078181 , -15.20148129, -16.72313267, -14.15534596,\n",
       "       -15.32375684, -15.02486104, -20.41857079, -15.07920573,\n",
       "       -14.236863  , -15.06561956, -14.25044917, -15.31017067,\n",
       "       -14.26403534, -14.50858646, -14.5357588 , -19.65774579,\n",
       "       -14.10100127, -14.07382892, -16.12534105])"
      ]
     },
     "execution_count": 133,
     "metadata": {},
     "output_type": "execute_result"
    }
   ],
   "source": [
    "del_del_trial"
   ]
  },
  {
   "cell_type": "code",
   "execution_count": 134,
   "metadata": {},
   "outputs": [
    {
     "data": {
      "text/plain": [
       "array([-0.54344692, -1.16841089, -0.46192988, -0.69289483, -0.39399902,\n",
       "       -6.52136308, -2.94819956, -3.19275067, -0.08151704,  0.05434469,\n",
       "       -0.89668742, -1.14123854, -0.21737877, -1.30427262, -3.34219858,\n",
       "       -0.51627458, -1.7662025 , -1.35861731,  0.05434469, -0.54344692,\n",
       "       -0.63855013, -6.52136308, -5.20350429, -3.30144006, -0.97820446,\n",
       "       -0.04075852, -0.1494479 , -1.18199706, -0.40758519, -0.06793087,\n",
       "       -1.01896298, -0.02717235, -1.82054719, -2.14661535,  0.1494479 ,\n",
       "       -4.13019662, -1.31785879, -1.34503114, -0.3532405 , -1.12765237,\n",
       "       -0.05434469, -2.96178573, -0.80158421, -1.12765237, -4.26605835,\n",
       "       -1.0597215 , -2.58137289, -0.01358617, -1.18199706, -0.88310125,\n",
       "       -6.27681196, -0.93744594, -0.09510321, -0.92385977, -0.10868938,\n",
       "       -1.16841089, -0.12227556, -0.36682667, -0.39399902, -5.51598627,\n",
       "        0.04075852,  0.06793087, -1.98358127])"
      ]
     },
     "execution_count": 134,
     "metadata": {},
     "output_type": "execute_result"
    }
   ],
   "source": [
    "site_SARS2_val_converted"
   ]
  },
  {
   "cell_type": "code",
   "execution_count": 135,
   "metadata": {},
   "outputs": [],
   "source": [
    "import matplotlib.pyplot as plt"
   ]
  },
  {
   "cell_type": "code",
   "execution_count": 136,
   "metadata": {},
   "outputs": [],
   "source": [
    "exp_66 = df_exp_data[\"delta_delta_g_gen_66\"].to_numpy()"
   ]
  },
  {
   "cell_type": "code",
   "execution_count": 137,
   "metadata": {},
   "outputs": [
    {
     "data": {
      "text/plain": [
       "(array([-0.54344692, -1.16841089, -0.46192988, -0.69289483, -0.39399902,\n",
       "        -6.52136308, -2.94819956, -3.19275067, -0.08151704,  0.05434469,\n",
       "        -0.89668742, -1.14123854, -0.21737877, -1.30427262, -3.34219858,\n",
       "        -0.51627458, -1.7662025 , -1.35861731,  0.05434469, -0.54344692,\n",
       "        -0.63855013, -6.52136308, -5.20350429, -3.30144006, -0.97820446,\n",
       "        -0.04075852, -0.1494479 , -1.18199706, -0.40758519, -0.06793087,\n",
       "        -1.01896298, -0.02717235, -1.82054719, -2.14661535,  0.1494479 ,\n",
       "        -4.13019662, -1.31785879, -1.34503114, -0.3532405 , -1.12765237,\n",
       "        -0.05434469, -2.96178573, -0.80158421, -1.12765237, -4.26605835,\n",
       "        -1.0597215 , -2.58137289, -0.01358617, -1.18199706, -0.88310125,\n",
       "        -6.27681196, -0.93744594, -0.09510321, -0.92385977, -0.10868938,\n",
       "        -1.16841089, -0.12227556, -0.36682667, -0.39399902, -5.51598627,\n",
       "         0.04075852,  0.06793087, -1.98358127]),\n",
       " array([-3.6300e-02,  5.0000e-03, -4.2699e+00,  6.6000e-03,  1.5000e-03,\n",
       "         1.9800e-02, -3.6575e+00, -3.8300e-02, -2.2030e-01,  1.2600e-02,\n",
       "        -2.5900e-02, -9.8200e-02,  6.3000e-03, -7.9000e-03, -6.6761e+00,\n",
       "         1.2500e-02, -8.4391e+00, -2.7000e-02,  1.1600e-02, -1.4800e-02,\n",
       "        -5.7960e-01, -1.3380e-01,  3.9000e-03, -8.8911e+00,  4.0000e-03,\n",
       "        -1.0400e-01,  1.4000e-02, -2.9600e-02,  3.7000e-03,  1.1700e-02,\n",
       "         1.3000e-03,  1.4600e-02,  4.0000e-04, -1.5000e-03,  7.2000e-03,\n",
       "        -9.0000e-04,  1.2100e-02,  4.2000e-03,  7.3000e-03, -1.3000e-03,\n",
       "        -5.3500e-02, -7.9900e-01,  5.6000e-03,  7.0000e-03,  5.5000e-03,\n",
       "         3.8000e-03, -8.0000e-04,  7.4000e-03, -1.1000e-03,  1.0900e-02,\n",
       "         4.0000e-04, -1.0640e-01,  7.8000e-03, -7.8400e-02,  1.0700e-02,\n",
       "        -5.7000e-03,  1.1300e-02, -3.5560e-01,  1.5200e-02, -2.8300e-02,\n",
       "         3.5610e-01,  1.4000e-03,  8.0300e-02]),\n",
       " array([-0.54344692, -1.16841089, -0.46192988, -0.69289483, -0.39399902,\n",
       "        -6.52136308, -2.94819956, -3.19275067, -0.08151704,  0.05434469,\n",
       "        -0.89668742, -1.14123854, -0.21737877, -1.30427262, -3.34219858,\n",
       "        -0.51627458, -1.7662025 , -1.35861731,  0.05434469, -0.54344692,\n",
       "        -0.63855013, -6.52136308, -5.20350429, -3.30144006, -0.97820446,\n",
       "        -0.04075852, -0.1494479 , -1.18199706, -0.40758519, -0.06793087,\n",
       "        -1.01896298, -0.02717235, -1.82054719, -2.14661535,  0.1494479 ,\n",
       "        -4.13019662, -1.31785879, -1.34503114, -0.3532405 , -1.12765237,\n",
       "        -0.05434469, -2.96178573, -0.80158421, -1.12765237, -4.26605835,\n",
       "        -1.0597215 , -2.58137289, -0.01358617, -1.18199706, -0.88310125,\n",
       "        -6.27681196, -0.93744594, -0.09510321, -0.92385977, -0.10868938,\n",
       "        -1.16841089, -0.12227556, -0.36682667, -0.39399902, -5.51598627,\n",
       "         0.04075852,  0.06793087, -1.98358127]))"
      ]
     },
     "execution_count": 137,
     "metadata": {},
     "output_type": "execute_result"
    }
   ],
   "source": [
    "site_SARS2_val_converted,exp_66 , del_del_g_total"
   ]
  },
  {
   "cell_type": "code",
   "execution_count": 138,
   "metadata": {},
   "outputs": [
    {
     "data": {
      "text/plain": [
       "array([5.07146923e-01, 1.17341089e+00, 3.80797012e+00, 6.99494827e-01,\n",
       "       3.95499019e-01, 6.54116308e+00, 7.09300441e-01, 3.15445067e+00,\n",
       "       1.38782962e-01, 4.17446923e-02, 8.70787423e-01, 1.04303854e+00,\n",
       "       2.23678769e-01, 1.29637262e+00, 3.33390142e+00, 5.28774577e-01,\n",
       "       6.67289750e+00, 1.33161731e+00, 4.27446923e-02, 5.28646923e-01,\n",
       "       5.89501349e-02, 6.38756308e+00, 5.20740429e+00, 5.58965994e+00,\n",
       "       9.82204462e-01, 6.32414808e-02, 1.63447904e-01, 1.15239706e+00,\n",
       "       4.11285192e-01, 7.96308654e-02, 1.02026298e+00, 4.17723462e-02,\n",
       "       1.82094719e+00, 2.14511535e+00, 1.42247904e-01, 4.12929662e+00,\n",
       "       1.32995879e+00, 1.34923114e+00, 3.60540500e-01, 1.12635237e+00,\n",
       "       8.44692331e-04, 2.16278573e+00, 8.07184212e-01, 1.13465237e+00,\n",
       "       4.27155835e+00, 1.06352150e+00, 2.58057289e+00, 2.09861731e-02,\n",
       "       1.18089706e+00, 8.94001250e-01, 6.27721196e+00, 8.31045943e-01,\n",
       "       1.02903212e-01, 8.45459770e-01, 1.19389385e-01, 1.16271089e+00,\n",
       "       1.33575558e-01, 1.12266732e-02, 4.09199019e-01, 5.48768627e+00,\n",
       "       3.15341481e-01, 6.65308654e-02, 2.06388127e+00])"
      ]
     },
     "execution_count": 138,
     "metadata": {},
     "output_type": "execute_result"
    }
   ],
   "source": [
    "# convert delta log_10(Kd) -> Kd (for now assume to ignore the delta)\n",
    "\n",
    "error = abs(del_del_g_total - exp_66)\n",
    "error"
   ]
  },
  {
   "cell_type": "code",
   "execution_count": 139,
   "metadata": {},
   "outputs": [
    {
     "data": {
      "text/plain": [
       "[<matplotlib.lines.Line2D at 0x1b19fed9ab0>]"
      ]
     },
     "execution_count": 139,
     "metadata": {},
     "output_type": "execute_result"
    },
    {
     "data": {
      "image/png": "[encoded data removed]",
      "text/plain": [
       "<Figure size 640x480 with 1 Axes>"
      ]
     },
     "metadata": {},
     "output_type": "display_data"
    }
   ],
   "source": [
    "plt.plot(error)"
   ]
  },
  {
   "cell_type": "code",
   "execution_count": 140,
   "metadata": {},
   "outputs": [
    {
     "data": {
      "text/plain": [
       "1.5642238014365513"
      ]
     },
     "execution_count": 140,
     "metadata": {},
     "output_type": "execute_result"
    }
   ],
   "source": [
    "error.mean()"
   ]
  },
  {
   "cell_type": "code",
   "execution_count": 145,
   "metadata": {},
   "outputs": [
    {
     "data": {
      "text/plain": [
       "numpy.ndarray"
      ]
     },
     "execution_count": 145,
     "metadata": {},
     "output_type": "execute_result"
    }
   ],
   "source": [
    "true_muts_np\n",
    "type(error)"
   ]
  },
  {
   "cell_type": "code",
   "execution_count": 149,
   "metadata": {},
   "outputs": [
    {
     "data": {
      "text/plain": [
       "4221"
      ]
     },
     "execution_count": 149,
     "metadata": {},
     "output_type": "execute_result"
    }
   ],
   "source": [
    "len(true_muts_np)"
   ]
  },
  {
   "cell_type": "code",
   "execution_count": 148,
   "metadata": {},
   "outputs": [
    {
     "ename": "ValueError",
     "evalue": "All arrays must be of the same length",
     "output_type": "error",
     "traceback": [
      "\u001b[1;31m---------------------------------------------------------------------------\u001b[0m",
      "\u001b[1;31mValueError\u001b[0m                                Traceback (most recent call last)",
      "Cell \u001b[1;32mIn[148], line 1\u001b[0m\n\u001b[1;32m----> 1\u001b[0m error_df \u001b[38;5;241m=\u001b[39m \u001b[43mpd\u001b[49m\u001b[38;5;241;43m.\u001b[39;49m\u001b[43mDataFrame\u001b[49m\u001b[43m(\u001b[49m\u001b[43m{\u001b[49m\u001b[38;5;124;43m\"\u001b[39;49m\u001b[38;5;124;43mmutations\u001b[39;49m\u001b[38;5;124;43m\"\u001b[39;49m\u001b[43m \u001b[49m\u001b[43m:\u001b[49m\u001b[43mtrue_muts_np\u001b[49m\u001b[43m \u001b[49m\u001b[43m,\u001b[49m\u001b[43m \u001b[49m\u001b[38;5;124;43m\"\u001b[39;49m\u001b[38;5;124;43merror\u001b[39;49m\u001b[38;5;124;43m\"\u001b[39;49m\u001b[43m \u001b[49m\u001b[43m:\u001b[49m\u001b[43m \u001b[49m\u001b[43merror\u001b[49m\u001b[43m}\u001b[49m\u001b[43m)\u001b[49m\n",
      "File \u001b[1;32mc:\\Users\\fplac\\mambaforge\\envs\\ee5830\\lib\\site-packages\\pandas\\core\\frame.py:709\u001b[0m, in \u001b[0;36mDataFrame.__init__\u001b[1;34m(self, data, index, columns, dtype, copy)\u001b[0m\n\u001b[0;32m    703\u001b[0m     mgr \u001b[38;5;241m=\u001b[39m \u001b[38;5;28mself\u001b[39m\u001b[38;5;241m.\u001b[39m_init_mgr(\n\u001b[0;32m    704\u001b[0m         data, axes\u001b[38;5;241m=\u001b[39m{\u001b[38;5;124m\"\u001b[39m\u001b[38;5;124mindex\u001b[39m\u001b[38;5;124m\"\u001b[39m: index, \u001b[38;5;124m\"\u001b[39m\u001b[38;5;124mcolumns\u001b[39m\u001b[38;5;124m\"\u001b[39m: columns}, dtype\u001b[38;5;241m=\u001b[39mdtype, copy\u001b[38;5;241m=\u001b[39mcopy\n\u001b[0;32m    705\u001b[0m     )\n\u001b[0;32m    707\u001b[0m \u001b[38;5;28;01melif\u001b[39;00m \u001b[38;5;28misinstance\u001b[39m(data, \u001b[38;5;28mdict\u001b[39m):\n\u001b[0;32m    708\u001b[0m     \u001b[38;5;66;03m# GH#38939 de facto copy defaults to False only in non-dict cases\u001b[39;00m\n\u001b[1;32m--> 709\u001b[0m     mgr \u001b[38;5;241m=\u001b[39m \u001b[43mdict_to_mgr\u001b[49m\u001b[43m(\u001b[49m\u001b[43mdata\u001b[49m\u001b[43m,\u001b[49m\u001b[43m \u001b[49m\u001b[43mindex\u001b[49m\u001b[43m,\u001b[49m\u001b[43m \u001b[49m\u001b[43mcolumns\u001b[49m\u001b[43m,\u001b[49m\u001b[43m \u001b[49m\u001b[43mdtype\u001b[49m\u001b[38;5;241;43m=\u001b[39;49m\u001b[43mdtype\u001b[49m\u001b[43m,\u001b[49m\u001b[43m \u001b[49m\u001b[43mcopy\u001b[49m\u001b[38;5;241;43m=\u001b[39;49m\u001b[43mcopy\u001b[49m\u001b[43m,\u001b[49m\u001b[43m \u001b[49m\u001b[43mtyp\u001b[49m\u001b[38;5;241;43m=\u001b[39;49m\u001b[43mmanager\u001b[49m\u001b[43m)\u001b[49m\n\u001b[0;32m    710\u001b[0m \u001b[38;5;28;01melif\u001b[39;00m \u001b[38;5;28misinstance\u001b[39m(data, ma\u001b[38;5;241m.\u001b[39mMaskedArray):\n\u001b[0;32m    711\u001b[0m     \u001b[38;5;28;01mfrom\u001b[39;00m \u001b[38;5;21;01mnumpy\u001b[39;00m\u001b[38;5;21;01m.\u001b[39;00m\u001b[38;5;21;01mma\u001b[39;00m \u001b[38;5;28;01mimport\u001b[39;00m mrecords\n",
      "File \u001b[1;32mc:\\Users\\fplac\\mambaforge\\envs\\ee5830\\lib\\site-packages\\pandas\\core\\internals\\construction.py:481\u001b[0m, in \u001b[0;36mdict_to_mgr\u001b[1;34m(data, index, columns, dtype, typ, copy)\u001b[0m\n\u001b[0;32m    477\u001b[0m     \u001b[38;5;28;01melse\u001b[39;00m:\n\u001b[0;32m    478\u001b[0m         \u001b[38;5;66;03m# dtype check to exclude e.g. range objects, scalars\u001b[39;00m\n\u001b[0;32m    479\u001b[0m         arrays \u001b[38;5;241m=\u001b[39m [x\u001b[38;5;241m.\u001b[39mcopy() \u001b[38;5;28;01mif\u001b[39;00m \u001b[38;5;28mhasattr\u001b[39m(x, \u001b[38;5;124m\"\u001b[39m\u001b[38;5;124mdtype\u001b[39m\u001b[38;5;124m\"\u001b[39m) \u001b[38;5;28;01melse\u001b[39;00m x \u001b[38;5;28;01mfor\u001b[39;00m x \u001b[38;5;129;01min\u001b[39;00m arrays]\n\u001b[1;32m--> 481\u001b[0m \u001b[38;5;28;01mreturn\u001b[39;00m \u001b[43marrays_to_mgr\u001b[49m\u001b[43m(\u001b[49m\u001b[43marrays\u001b[49m\u001b[43m,\u001b[49m\u001b[43m \u001b[49m\u001b[43mcolumns\u001b[49m\u001b[43m,\u001b[49m\u001b[43m \u001b[49m\u001b[43mindex\u001b[49m\u001b[43m,\u001b[49m\u001b[43m \u001b[49m\u001b[43mdtype\u001b[49m\u001b[38;5;241;43m=\u001b[39;49m\u001b[43mdtype\u001b[49m\u001b[43m,\u001b[49m\u001b[43m \u001b[49m\u001b[43mtyp\u001b[49m\u001b[38;5;241;43m=\u001b[39;49m\u001b[43mtyp\u001b[49m\u001b[43m,\u001b[49m\u001b[43m \u001b[49m\u001b[43mconsolidate\u001b[49m\u001b[38;5;241;43m=\u001b[39;49m\u001b[43mcopy\u001b[49m\u001b[43m)\u001b[49m\n",
      "File \u001b[1;32mc:\\Users\\fplac\\mambaforge\\envs\\ee5830\\lib\\site-packages\\pandas\\core\\internals\\construction.py:115\u001b[0m, in \u001b[0;36marrays_to_mgr\u001b[1;34m(arrays, columns, index, dtype, verify_integrity, typ, consolidate)\u001b[0m\n\u001b[0;32m    112\u001b[0m \u001b[38;5;28;01mif\u001b[39;00m verify_integrity:\n\u001b[0;32m    113\u001b[0m     \u001b[38;5;66;03m# figure out the index, if necessary\u001b[39;00m\n\u001b[0;32m    114\u001b[0m     \u001b[38;5;28;01mif\u001b[39;00m index \u001b[38;5;129;01mis\u001b[39;00m \u001b[38;5;28;01mNone\u001b[39;00m:\n\u001b[1;32m--> 115\u001b[0m         index \u001b[38;5;241m=\u001b[39m \u001b[43m_extract_index\u001b[49m\u001b[43m(\u001b[49m\u001b[43marrays\u001b[49m\u001b[43m)\u001b[49m\n\u001b[0;32m    116\u001b[0m     \u001b[38;5;28;01melse\u001b[39;00m:\n\u001b[0;32m    117\u001b[0m         index \u001b[38;5;241m=\u001b[39m ensure_index(index)\n",
      "File \u001b[1;32mc:\\Users\\fplac\\mambaforge\\envs\\ee5830\\lib\\site-packages\\pandas\\core\\internals\\construction.py:655\u001b[0m, in \u001b[0;36m_extract_index\u001b[1;34m(data)\u001b[0m\n\u001b[0;32m    653\u001b[0m lengths \u001b[38;5;241m=\u001b[39m \u001b[38;5;28mlist\u001b[39m(\u001b[38;5;28mset\u001b[39m(raw_lengths))\n\u001b[0;32m    654\u001b[0m \u001b[38;5;28;01mif\u001b[39;00m \u001b[38;5;28mlen\u001b[39m(lengths) \u001b[38;5;241m>\u001b[39m \u001b[38;5;241m1\u001b[39m:\n\u001b[1;32m--> 655\u001b[0m     \u001b[38;5;28;01mraise\u001b[39;00m \u001b[38;5;167;01mValueError\u001b[39;00m(\u001b[38;5;124m\"\u001b[39m\u001b[38;5;124mAll arrays must be of the same length\u001b[39m\u001b[38;5;124m\"\u001b[39m)\n\u001b[0;32m    657\u001b[0m \u001b[38;5;28;01mif\u001b[39;00m have_dicts:\n\u001b[0;32m    658\u001b[0m     \u001b[38;5;28;01mraise\u001b[39;00m \u001b[38;5;167;01mValueError\u001b[39;00m(\n\u001b[0;32m    659\u001b[0m         \u001b[38;5;124m\"\u001b[39m\u001b[38;5;124mMixing dicts with non-Series may lead to ambiguous ordering.\u001b[39m\u001b[38;5;124m\"\u001b[39m\n\u001b[0;32m    660\u001b[0m     )\n",
      "\u001b[1;31mValueError\u001b[0m: All arrays must be of the same length"
     ]
    }
   ],
   "source": [
    "#error_df = pd.DataFrame({\"mutations\" :true_muts_np , \"error\" : error})"
   ]
  }
 ],
 "metadata": {
  "kernelspec": {
   "display_name": "Python 3",
   "language": "python",
   "name": "python3"
  },
  "language_info": {
   "codemirror_mode": {
    "name": "ipython",
    "version": 3
   },
   "file_extension": ".py",
   "mimetype": "text/x-python",
   "name": "python",
   "nbconvert_exporter": "python",
   "pygments_lexer": "ipython3",
   "version": "3.10.12"
  }
 },
 "nbformat": 4,
 "nbformat_minor": 2
}
