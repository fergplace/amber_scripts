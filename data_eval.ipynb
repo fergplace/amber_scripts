{
 "cells": [
  {
   "cell_type": "code",
   "execution_count": 57,
   "metadata": {},
   "outputs": [],
   "source": [
    "import pandas as pd"
   ]
  },
  {
   "cell_type": "code",
   "execution_count": 72,
   "metadata": {},
   "outputs": [],
   "source": [
    "df_exp_data = pd.read_csv(\"simple_amino.csv\")\n",
    "df_true_data = pd.read_csv(\"single_mut_effects.csv\")"
   ]
  },
  {
   "cell_type": "code",
   "execution_count": 73,
   "metadata": {},
   "outputs": [],
   "source": [
    "exp_muts = df_exp_data[\"mutations\"]"
   ]
  },
  {
   "cell_type": "code",
   "execution_count": 74,
   "metadata": {},
   "outputs": [],
   "source": [
    "true_muts = df_true_data[\"mutation\"]"
   ]
  },
  {
   "cell_type": "code",
   "execution_count": 15,
   "metadata": {},
   "outputs": [
    {
     "data": {
      "text/plain": [
       "0     Y773A\n",
       "1     V606A\n",
       "2     F751A\n",
       "3     L652A\n",
       "4     F639A\n",
       "      ...  \n",
       "58    Y630A\n",
       "59    L757A\n",
       "60    F755A\n",
       "61    L717A\n",
       "62    I683A\n",
       "Name: mutations, Length: 63, dtype: object"
      ]
     },
     "execution_count": 15,
     "metadata": {},
     "output_type": "execute_result"
    }
   ],
   "source": [
    "#exp_muts = df_exp_data[\"mutations\"]"
   ]
  },
  {
   "cell_type": "code",
   "execution_count": 75,
   "metadata": {},
   "outputs": [],
   "source": [
    "import numpy as np\n",
    "\n",
    "\n",
    "    "
   ]
  },
  {
   "cell_type": "code",
   "execution_count": 76,
   "metadata": {},
   "outputs": [],
   "source": [
    "true_muts_np= true_muts.to_numpy()"
   ]
  },
  {
   "cell_type": "code",
   "execution_count": 77,
   "metadata": {},
   "outputs": [
    {
     "data": {
      "text/plain": [
       "array(['N331A', 'N331C', 'N331D', ..., 'T531W', 'T531Y', 'T531*'],\n",
       "      dtype=object)"
      ]
     },
     "execution_count": 77,
     "metadata": {},
     "output_type": "execute_result"
    }
   ],
   "source": [
    "true_muts_np"
   ]
  },
  {
   "cell_type": "code",
   "execution_count": 91,
   "metadata": {},
   "outputs": [],
   "source": [
    "idx= []  \n",
    "for mut in exp_muts : \n",
    "    idx.append(np.where(true_muts_np == mut )[0][0] ) "
   ]
  },
  {
   "cell_type": "markdown",
   "metadata": {},
   "source": [
    "get data we want : "
   ]
  },
  {
   "cell_type": "code",
   "execution_count": 107,
   "metadata": {},
   "outputs": [],
   "source": [
    "exp_avg_val = df_true_data.iloc[idx][\"expr_avg\"].to_numpy()"
   ]
  },
  {
   "cell_type": "code",
   "execution_count": 97,
   "metadata": {},
   "outputs": [],
   "source": [
    "import matplotlib.pyplot as plt"
   ]
  },
  {
   "cell_type": "code",
   "execution_count": 108,
   "metadata": {},
   "outputs": [],
   "source": [
    "exp_66 = df_exp_data[\"delta_delta_g_gen_66\"].to_numpy()"
   ]
  },
  {
   "cell_type": "code",
   "execution_count": 109,
   "metadata": {},
   "outputs": [
    {
     "data": {
      "text/plain": [
       "(array([-0.85, -1.98,  0.1 , -1.85, -0.98, -2.68, -0.1 , -1.83, -0.1 ,\n",
       "        -0.01, -2.02, -1.27, -0.35, -2.29, -0.31, -1.5 ,  0.05, -2.29,\n",
       "        -0.13, -1.47,  0.58, -1.95, -2.86,  0.12, -2.6 ,  0.09, -0.19,\n",
       "        -1.47, -1.95, -0.4 , -2.7 ,  0.02, -2.15, -2.96,  0.46, -2.8 ,\n",
       "        -2.18, -2.24, -1.39, -2.61, -0.08, -0.91, -2.17, -1.77, -2.92,\n",
       "        -2.59, -2.81,  0.14, -2.11, -2.51, -2.82, -0.5 , -0.09, -1.75,\n",
       "        -1.6 , -2.22, -0.41, -0.87, -0.57, -2.22,  0.03,  0.03, -2.77]),\n",
       " array([-3.6300e-02,  5.0000e-03, -4.2699e+00,  6.6000e-03,  1.5000e-03,\n",
       "         1.9800e-02, -3.6575e+00, -3.8300e-02, -2.2030e-01,  1.2600e-02,\n",
       "        -2.5900e-02, -9.8200e-02,  6.3000e-03, -7.9000e-03, -6.6761e+00,\n",
       "         1.2500e-02, -8.4391e+00, -2.7000e-02,  1.1600e-02, -1.4800e-02,\n",
       "        -5.7960e-01, -1.3380e-01,  3.9000e-03, -8.8911e+00,  4.0000e-03,\n",
       "        -1.0400e-01,  1.4000e-02, -2.9600e-02,  3.7000e-03,  1.1700e-02,\n",
       "         1.3000e-03,  1.4600e-02,  4.0000e-04, -1.5000e-03,  7.2000e-03,\n",
       "        -9.0000e-04,  1.2100e-02,  4.2000e-03,  7.3000e-03, -1.3000e-03,\n",
       "        -5.3500e-02, -7.9900e-01,  5.6000e-03,  7.0000e-03,  5.5000e-03,\n",
       "         3.8000e-03, -8.0000e-04,  7.4000e-03, -1.1000e-03,  1.0900e-02,\n",
       "         4.0000e-04, -1.0640e-01,  7.8000e-03, -7.8400e-02,  1.0700e-02,\n",
       "        -5.7000e-03,  1.1300e-02, -3.5560e-01,  1.5200e-02, -2.8300e-02,\n",
       "         3.5610e-01,  1.4000e-03,  8.0300e-02]))"
      ]
     },
     "execution_count": 109,
     "metadata": {},
     "output_type": "execute_result"
    }
   ],
   "source": [
    "exp_avg_val,exp_66 "
   ]
  }
 ],
 "metadata": {
  "kernelspec": {
   "display_name": "Python 3",
   "language": "python",
   "name": "python3"
  },
  "language_info": {
   "codemirror_mode": {
    "name": "ipython",
    "version": 3
   },
   "file_extension": ".py",
   "mimetype": "text/x-python",
   "name": "python",
   "nbconvert_exporter": "python",
   "pygments_lexer": "ipython3",
   "version": "3.10.9"
  }
 },
 "nbformat": 4,
 "nbformat_minor": 2
}
