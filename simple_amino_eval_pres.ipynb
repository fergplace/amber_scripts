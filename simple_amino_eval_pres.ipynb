{
 "cells": [
  {
   "cell_type": "markdown",
   "metadata": {},
   "source": [
    "# Simple Amino acid eval "
   ]
  },
  {
   "cell_type": "markdown",
   "metadata": {},
   "source": [
    "imports"
   ]
  },
  {
   "cell_type": "code",
   "execution_count": 1,
   "metadata": {},
   "outputs": [],
   "source": [
    "import pandas as pd\n",
    "import numpy as np\n",
    "import matplotlib.pyplot as plt\n"
   ]
  },
  {
   "cell_type": "markdown",
   "metadata": {},
   "source": [
    "grab experimental data and numerical data"
   ]
  },
  {
   "cell_type": "code",
   "execution_count": 2,
   "metadata": {},
   "outputs": [],
   "source": [
    "df_num_data = pd.read_csv(\"simple_amino.csv\")\n",
    "df_exp_data = pd.read_csv(\"single_mut_effects.csv\")"
   ]
  },
  {
   "cell_type": "markdown",
   "metadata": {},
   "source": [
    "quick look at the data frames"
   ]
  },
  {
   "cell_type": "code",
   "execution_count": 3,
   "metadata": {},
   "outputs": [
    {
     "data": {
      "text/html": [
       "<div>\n",
       "<style scoped>\n",
       "    .dataframe tbody tr th:only-of-type {\n",
       "        vertical-align: middle;\n",
       "    }\n",
       "\n",
       "    .dataframe tbody tr th {\n",
       "        vertical-align: top;\n",
       "    }\n",
       "\n",
       "    .dataframe thead th {\n",
       "        text-align: right;\n",
       "    }\n",
       "</style>\n",
       "<table border=\"1\" class=\"dataframe\">\n",
       "  <thead>\n",
       "    <tr style=\"text-align: right;\">\n",
       "      <th></th>\n",
       "      <th>site_RBD</th>\n",
       "      <th>site_SARS2</th>\n",
       "      <th>bind_lib1</th>\n",
       "      <th>bind_lib2</th>\n",
       "      <th>bind_avg</th>\n",
       "      <th>expr_lib1</th>\n",
       "      <th>expr_lib2</th>\n",
       "      <th>expr_avg</th>\n",
       "    </tr>\n",
       "  </thead>\n",
       "  <tbody>\n",
       "    <tr>\n",
       "      <th>count</th>\n",
       "      <td>4221.000000</td>\n",
       "      <td>4221.000000</td>\n",
       "      <td>3994.000000</td>\n",
       "      <td>3991.000000</td>\n",
       "      <td>4003.000000</td>\n",
       "      <td>4183.000000</td>\n",
       "      <td>4184.000000</td>\n",
       "      <td>4198.000000</td>\n",
       "    </tr>\n",
       "    <tr>\n",
       "      <th>mean</th>\n",
       "      <td>101.000000</td>\n",
       "      <td>431.000000</td>\n",
       "      <td>-0.920441</td>\n",
       "      <td>-0.968637</td>\n",
       "      <td>-0.943600</td>\n",
       "      <td>-1.203875</td>\n",
       "      <td>-1.166883</td>\n",
       "      <td>-1.184726</td>\n",
       "    </tr>\n",
       "    <tr>\n",
       "      <th>std</th>\n",
       "      <td>58.029858</td>\n",
       "      <td>58.029858</td>\n",
       "      <td>1.389299</td>\n",
       "      <td>1.412122</td>\n",
       "      <td>1.391609</td>\n",
       "      <td>1.273002</td>\n",
       "      <td>1.233323</td>\n",
       "      <td>1.243281</td>\n",
       "    </tr>\n",
       "    <tr>\n",
       "      <th>min</th>\n",
       "      <td>1.000000</td>\n",
       "      <td>331.000000</td>\n",
       "      <td>-4.760000</td>\n",
       "      <td>-4.840000</td>\n",
       "      <td>-4.840000</td>\n",
       "      <td>-4.710000</td>\n",
       "      <td>-4.650000</td>\n",
       "      <td>-4.650000</td>\n",
       "    </tr>\n",
       "    <tr>\n",
       "      <th>25%</th>\n",
       "      <td>51.000000</td>\n",
       "      <td>381.000000</td>\n",
       "      <td>-1.080000</td>\n",
       "      <td>-1.230000</td>\n",
       "      <td>-1.140000</td>\n",
       "      <td>-2.200000</td>\n",
       "      <td>-2.120000</td>\n",
       "      <td>-2.150000</td>\n",
       "    </tr>\n",
       "    <tr>\n",
       "      <th>50%</th>\n",
       "      <td>101.000000</td>\n",
       "      <td>431.000000</td>\n",
       "      <td>-0.255000</td>\n",
       "      <td>-0.300000</td>\n",
       "      <td>-0.280000</td>\n",
       "      <td>-0.740000</td>\n",
       "      <td>-0.730000</td>\n",
       "      <td>-0.740000</td>\n",
       "    </tr>\n",
       "    <tr>\n",
       "      <th>75%</th>\n",
       "      <td>151.000000</td>\n",
       "      <td>481.000000</td>\n",
       "      <td>-0.040000</td>\n",
       "      <td>-0.050000</td>\n",
       "      <td>-0.050000</td>\n",
       "      <td>-0.125000</td>\n",
       "      <td>-0.140000</td>\n",
       "      <td>-0.140000</td>\n",
       "    </tr>\n",
       "    <tr>\n",
       "      <th>max</th>\n",
       "      <td>201.000000</td>\n",
       "      <td>531.000000</td>\n",
       "      <td>0.360000</td>\n",
       "      <td>0.380000</td>\n",
       "      <td>0.300000</td>\n",
       "      <td>0.920000</td>\n",
       "      <td>1.000000</td>\n",
       "      <td>0.990000</td>\n",
       "    </tr>\n",
       "  </tbody>\n",
       "</table>\n",
       "</div>"
      ],
      "text/plain": [
       "          site_RBD   site_SARS2    bind_lib1    bind_lib2     bind_avg  \\\n",
       "count  4221.000000  4221.000000  3994.000000  3991.000000  4003.000000   \n",
       "mean    101.000000   431.000000    -0.920441    -0.968637    -0.943600   \n",
       "std      58.029858    58.029858     1.389299     1.412122     1.391609   \n",
       "min       1.000000   331.000000    -4.760000    -4.840000    -4.840000   \n",
       "25%      51.000000   381.000000    -1.080000    -1.230000    -1.140000   \n",
       "50%     101.000000   431.000000    -0.255000    -0.300000    -0.280000   \n",
       "75%     151.000000   481.000000    -0.040000    -0.050000    -0.050000   \n",
       "max     201.000000   531.000000     0.360000     0.380000     0.300000   \n",
       "\n",
       "         expr_lib1    expr_lib2     expr_avg  \n",
       "count  4183.000000  4184.000000  4198.000000  \n",
       "mean     -1.203875    -1.166883    -1.184726  \n",
       "std       1.273002     1.233323     1.243281  \n",
       "min      -4.710000    -4.650000    -4.650000  \n",
       "25%      -2.200000    -2.120000    -2.150000  \n",
       "50%      -0.740000    -0.730000    -0.740000  \n",
       "75%      -0.125000    -0.140000    -0.140000  \n",
       "max       0.920000     1.000000     0.990000  "
      ]
     },
     "execution_count": 3,
     "metadata": {},
     "output_type": "execute_result"
    }
   ],
   "source": [
    "df_exp_data.describe()"
   ]
  },
  {
   "cell_type": "markdown",
   "metadata": {},
   "source": [
    "simple amino acids are those starting with single letter codes defined below:\n",
    "\n",
    "D_amino = [\"V\", \"I\", \"L\", \"M\" , \"F\", \"Y\", \"W\"]"
   ]
  },
  {
   "cell_type": "code",
   "execution_count": 4,
   "metadata": {},
   "outputs": [
    {
     "data": {
      "text/html": [
       "<div>\n",
       "<style scoped>\n",
       "    .dataframe tbody tr th:only-of-type {\n",
       "        vertical-align: middle;\n",
       "    }\n",
       "\n",
       "    .dataframe tbody tr th {\n",
       "        vertical-align: top;\n",
       "    }\n",
       "\n",
       "    .dataframe thead th {\n",
       "        text-align: right;\n",
       "    }\n",
       "</style>\n",
       "<table border=\"1\" class=\"dataframe\">\n",
       "  <thead>\n",
       "    <tr style=\"text-align: right;\">\n",
       "      <th></th>\n",
       "      <th>Unnamed: 0</th>\n",
       "      <th>delta_delta_g_gen</th>\n",
       "      <th>delta_delta_g_gen_error</th>\n",
       "      <th>delta_delta_g_gen_66</th>\n",
       "      <th>delta_delta_g_gen_66_error</th>\n",
       "    </tr>\n",
       "  </thead>\n",
       "  <tbody>\n",
       "    <tr>\n",
       "      <th>count</th>\n",
       "      <td>63.000000</td>\n",
       "      <td>63.000000</td>\n",
       "      <td>63.000000</td>\n",
       "      <td>63.000000</td>\n",
       "      <td>63.000000</td>\n",
       "    </tr>\n",
       "    <tr>\n",
       "      <th>mean</th>\n",
       "      <td>31.000000</td>\n",
       "      <td>-0.711097</td>\n",
       "      <td>0.139516</td>\n",
       "      <td>-0.539654</td>\n",
       "      <td>0.579494</td>\n",
       "    </tr>\n",
       "    <tr>\n",
       "      <th>std</th>\n",
       "      <td>18.330303</td>\n",
       "      <td>2.134639</td>\n",
       "      <td>0.329657</td>\n",
       "      <td>1.838006</td>\n",
       "      <td>0.897401</td>\n",
       "    </tr>\n",
       "    <tr>\n",
       "      <th>min</th>\n",
       "      <td>0.000000</td>\n",
       "      <td>-10.879800</td>\n",
       "      <td>0.000100</td>\n",
       "      <td>-8.891100</td>\n",
       "      <td>0.071700</td>\n",
       "    </tr>\n",
       "    <tr>\n",
       "      <th>25%</th>\n",
       "      <td>15.500000</td>\n",
       "      <td>-0.039700</td>\n",
       "      <td>0.000650</td>\n",
       "      <td>-0.037300</td>\n",
       "      <td>0.095750</td>\n",
       "    </tr>\n",
       "    <tr>\n",
       "      <th>50%</th>\n",
       "      <td>31.000000</td>\n",
       "      <td>-0.000800</td>\n",
       "      <td>0.004400</td>\n",
       "      <td>0.001300</td>\n",
       "      <td>0.135700</td>\n",
       "    </tr>\n",
       "    <tr>\n",
       "      <th>75%</th>\n",
       "      <td>46.500000</td>\n",
       "      <td>0.003450</td>\n",
       "      <td>0.050100</td>\n",
       "      <td>0.007350</td>\n",
       "      <td>0.469350</td>\n",
       "    </tr>\n",
       "    <tr>\n",
       "      <th>max</th>\n",
       "      <td>62.000000</td>\n",
       "      <td>0.059100</td>\n",
       "      <td>1.504500</td>\n",
       "      <td>0.356100</td>\n",
       "      <td>3.265400</td>\n",
       "    </tr>\n",
       "  </tbody>\n",
       "</table>\n",
       "</div>"
      ],
      "text/plain": [
       "       Unnamed: 0  delta_delta_g_gen  delta_delta_g_gen_error  \\\n",
       "count   63.000000          63.000000                63.000000   \n",
       "mean    31.000000          -0.711097                 0.139516   \n",
       "std     18.330303           2.134639                 0.329657   \n",
       "min      0.000000         -10.879800                 0.000100   \n",
       "25%     15.500000          -0.039700                 0.000650   \n",
       "50%     31.000000          -0.000800                 0.004400   \n",
       "75%     46.500000           0.003450                 0.050100   \n",
       "max     62.000000           0.059100                 1.504500   \n",
       "\n",
       "       delta_delta_g_gen_66  delta_delta_g_gen_66_error  \n",
       "count             63.000000                   63.000000  \n",
       "mean              -0.539654                    0.579494  \n",
       "std                1.838006                    0.897401  \n",
       "min               -8.891100                    0.071700  \n",
       "25%               -0.037300                    0.095750  \n",
       "50%                0.001300                    0.135700  \n",
       "75%                0.007350                    0.469350  \n",
       "max                0.356100                    3.265400  "
      ]
     },
     "execution_count": 4,
     "metadata": {},
     "output_type": "execute_result"
    }
   ],
   "source": [
    "df_num_data.describe()"
   ]
  },
  {
   "cell_type": "markdown",
   "metadata": {},
   "source": [
    "notes on the numerical data:\n",
    "\n",
    "$\\Delta \\Delta G$ calc is defined as wildtype - mutation. \n",
    "\n",
    "e.g. see F515A:\n",
    "DELTA TOTAL_wild = -69.7344 \n",
    "DELTA TOTAL_mut  = -69.7336\n",
    "DELTA DELTA G binding = -0.0008"
   ]
  },
  {
   "cell_type": "code",
   "execution_count": 5,
   "metadata": {},
   "outputs": [
    {
     "data": {
      "text/plain": [
       "-0.0007999999999981355"
      ]
     },
     "execution_count": 5,
     "metadata": {},
     "output_type": "execute_result"
    }
   ],
   "source": [
    "DELTA_TOTAL_wild = -69.7344 \n",
    "DELTA_TOTAL_mut  = -69.7336\n",
    "DELTA_TOTAL_wild- DELTA_TOTAL_mut"
   ]
  },
  {
   "cell_type": "markdown",
   "metadata": {},
   "source": [
    "get the indices for our mutants "
   ]
  },
  {
   "cell_type": "code",
   "execution_count": 6,
   "metadata": {},
   "outputs": [],
   "source": [
    "num_muts = df_num_data[\"mutations\"]\n",
    "exp_muts_np = df_exp_data[\"mutation\"].to_numpy()\n",
    "idx= []  \n",
    "for mut in num_muts : \n",
    "    idx.append(np.where(exp_muts_np == mut )[0][0] ) "
   ]
  },
  {
   "cell_type": "markdown",
   "metadata": {},
   "source": [
    "check the mutations: \n",
    "\n",
    "uncomment below to double check"
   ]
  },
  {
   "cell_type": "code",
   "execution_count": 7,
   "metadata": {},
   "outputs": [],
   "source": [
    "#exp_muts_np[idx], num_muts.to_numpy()"
   ]
  },
  {
   "cell_type": "markdown",
   "metadata": {},
   "source": [
    "## Data evalutation: "
   ]
  },
  {
   "cell_type": "markdown",
   "metadata": {},
   "source": [
    "finding delta_G_deg from paper: "
   ]
  },
  {
   "cell_type": "code",
   "execution_count": 8,
   "metadata": {},
   "outputs": [
    {
     "data": {
      "text/plain": [
       "-14.141759785560145"
      ]
     },
     "execution_count": 8,
     "metadata": {},
     "output_type": "execute_result"
    }
   ],
   "source": [
    "R = 1.98*1e-3 #1e-3 for cal to kcal conversion \n",
    "T =298  #room temp  \n",
    "K_D_app = 3.9*1e-11 #from paper \n",
    "\n",
    "#note we should get -R*T* (-np.log(K_D_app)) as we have a K_D and not a K_a\n",
    "#the double neg is removed here. \n",
    "delta_g_deg = R * T * np.log(K_D_app)\n",
    "delta_g_deg"
   ]
  },
  {
   "cell_type": "markdown",
   "metadata": {},
   "source": [
    "try using bind_avg column in the exp data frame "
   ]
  },
  {
   "cell_type": "code",
   "execution_count": 9,
   "metadata": {},
   "outputs": [],
   "source": [
    "site_SARS2_val = df_exp_data.iloc[idx][\"bind_avg\"].to_numpy()"
   ]
  },
  {
   "cell_type": "markdown",
   "metadata": {},
   "source": [
    "### first method:\n",
    "\n",
    "\n",
    "$$\\Delta log_{10}(K_{D,app}) = log_{10}(K_{mutation}) - log_{10}(K_{D,app}) $$\n",
    "$$given \\_ value := \\Delta log_{10}(K_{D,app})$$\n",
    "$$10^{given\\_ value} = K_{mutation}/K_{D,app}$$\n",
    "$$ K_{mutation} =10^{given \\_ value} * K_{D,app} $$\n",
    "\n",
    "note: this is with the idea of mut - wildtype, which is not present in our numerical data, to make this convertion it just becomes \n",
    "$$\\Delta log_{10}(K_{D,app}) = log_{10}(K_{D,app}) - log_{10}(K_{mutation})$$\n",
    "$$ K_{mutation} =10^{- given \\_ value} * K_{D,app} $$\n",
    "\n",
    "but converting out numerical result to mut - wildtype is easier\n",
    "$$\\Delta \\Delta G_{w-m} = - \\Delta \\Delta G_{m-w} $$\n",
    "so we will do that "
   ]
  },
  {
   "cell_type": "code",
   "execution_count": 10,
   "metadata": {},
   "outputs": [],
   "source": [
    "#using GB66\n",
    "num_66 = - df_num_data[\"delta_delta_g_gen_66\"].to_numpy()"
   ]
  },
  {
   "cell_type": "code",
   "execution_count": 11,
   "metadata": {},
   "outputs": [
    {
     "data": {
      "text/plain": [
       "array([14.68520671, 15.31017067, 14.60368967, 14.83465461, 14.5357588 ,\n",
       "       20.66312287, 17.08995934, 17.33451046, 14.22327682, 14.08741509,\n",
       "       15.03844721, 15.28299832, 14.35913855, 15.4460324 , 17.48395836,\n",
       "       14.65803436, 15.90796229, 15.50037709, 14.08741509, 14.68520671,\n",
       "       14.78030992, 20.66312287, 19.34526408, 17.44319984, 15.11996425,\n",
       "       14.1825183 , 14.29120769, 15.32375684, 14.54934498, 14.20969065,\n",
       "       15.16072277, 14.16893213, 15.96230698, 16.28837513, 13.99231188,\n",
       "       18.2719564 , 15.45961857, 15.48679092, 14.49500029, 15.26941215,\n",
       "       14.19610448, 17.10354552, 14.943344  , 15.26941215, 18.40781813,\n",
       "       15.20148129, 16.72313267, 14.15534596, 15.32375684, 15.02486104,\n",
       "       20.41857175, 15.07920573, 14.236863  , 15.06561956, 14.25044917,\n",
       "       15.31017067, 14.26403534, 14.50858646, 14.5357588 , 19.65774606,\n",
       "       14.10100127, 14.07382892, 16.12534106])"
      ]
     },
     "execution_count": 11,
     "metadata": {},
     "output_type": "execute_result"
    }
   ],
   "source": [
    "tmp_K_mut = 10**(site_SARS2_val) * K_D_app\n",
    "#- sign due to K_d and not K_a \n",
    "delta_g_first_method = -R * T * np.log(tmp_K_mut)\n",
    "delta_g_first_method "
   ]
  },
  {
   "cell_type": "markdown",
   "metadata": {},
   "source": [
    "### $\\Delta \\Delta G$ calc\n",
    "\n",
    "$$\\Delta \\Delta G =\\Delta G \\degree +R T ln(K_{mutation})$$"
   ]
  },
  {
   "cell_type": "code",
   "execution_count": 12,
   "metadata": {},
   "outputs": [
    {
     "data": {
      "text/plain": [
       "array([ 0.54344692,  1.16841089,  0.46192988,  0.69289483,  0.39399902,\n",
       "        6.52136308,  2.94819956,  3.19275067,  0.08151704, -0.05434469,\n",
       "        0.89668742,  1.14123854,  0.21737877,  1.30427262,  3.34219858,\n",
       "        0.51627458,  1.7662025 ,  1.35861731, -0.05434469,  0.54344692,\n",
       "        0.63855013,  6.52136308,  5.20350429,  3.30144006,  0.97820446,\n",
       "        0.04075852,  0.1494479 ,  1.18199706,  0.40758519,  0.06793087,\n",
       "        1.01896298,  0.02717235,  1.82054719,  2.14661535, -0.1494479 ,\n",
       "        4.13019662,  1.31785879,  1.34503114,  0.3532405 ,  1.12765237,\n",
       "        0.05434469,  2.96178573,  0.80158421,  1.12765237,  4.26605835,\n",
       "        1.0597215 ,  2.58137289,  0.01358617,  1.18199706,  0.88310125,\n",
       "        6.27681196,  0.93744594,  0.09510321,  0.92385977,  0.10868938,\n",
       "        1.16841089,  0.12227556,  0.36682667,  0.39399902,  5.51598627,\n",
       "       -0.04075852, -0.06793087,  1.98358127])"
      ]
     },
     "execution_count": 12,
     "metadata": {},
     "output_type": "execute_result"
    }
   ],
   "source": [
    "del_del_g_total =   delta_g_deg + delta_g_first_method  #i think signs are right here: \n",
    "del_del_g_total"
   ]
  },
  {
   "cell_type": "code",
   "execution_count": 13,
   "metadata": {},
   "outputs": [
    {
     "data": {
      "text/plain": [
       "[<matplotlib.lines.Line2D at 0x22248594490>]"
      ]
     },
     "execution_count": 13,
     "metadata": {},
     "output_type": "execute_result"
    },
    {
     "data": {
      "image/png": "[encoded data removed]",
      "text/plain": [
       "<Figure size 640x480 with 1 Axes>"
      ]
     },
     "metadata": {},
     "output_type": "display_data"
    }
   ],
   "source": [
    "error_first_method = del_del_g_total - num_66\n",
    "plt.plot(error_first_method)"
   ]
  },
  {
   "cell_type": "markdown",
   "metadata": {},
   "source": [
    "function for this:\n"
   ]
  },
  {
   "cell_type": "code",
   "execution_count": 34,
   "metadata": {},
   "outputs": [],
   "source": [
    "def delta_delta_G_exp_cal_frist_method(site_SARS2_val ) :\n",
    "    R = 1.98*1e-3 #1e-3 for cal to kcal conversion \n",
    "    T =298  #room temp  \n",
    "    K_D_app = 3.9*1e-11 #from paper\n",
    "    \n",
    "    delta_g_deg = R * T * np.log(K_D_app)\n",
    "    \n",
    "    tmp_K_mut = 10**(site_SARS2_val) * K_D_app\n",
    "    delta_g_first_method = -R * T * np.log(tmp_K_mut)\n",
    "    del_del_g_total =   delta_g_deg + delta_g_first_method\n",
    "    return del_del_g_total"
   ]
  },
  {
   "cell_type": "code",
   "execution_count": 14,
   "metadata": {},
   "outputs": [
    {
     "data": {
      "text/plain": [
       "0     Y508A\n",
       "1     V341A\n",
       "2     F486A\n",
       "3     L387A\n",
       "4     F374A\n",
       "      ...  \n",
       "58    Y365A\n",
       "59    L492A\n",
       "60    F490A\n",
       "61    L452A\n",
       "62    I418A\n",
       "Name: mutations, Length: 63, dtype: object"
      ]
     },
     "execution_count": 14,
     "metadata": {},
     "output_type": "execute_result"
    }
   ],
   "source": [
    "num_muts"
   ]
  },
  {
   "cell_type": "markdown",
   "metadata": {},
   "source": [
    "get indexes based on mutation and site\n"
   ]
  },
  {
   "cell_type": "code",
   "execution_count": 86,
   "metadata": {},
   "outputs": [],
   "source": [
    "simple_amino = [\"V\", \"I\", \"L\", \"M\", \"F\", \"Y\", \"W\"]\n",
    "sorted_dict = {} \n",
    "for letter_key in simple_amino :\n",
    "    #get index mutations starting with letter_key \n",
    "    dftemp = df_num_data[ \\\n",
    "        df_num_data[\"mutations\"].str.startswith(letter_key) ].iloc[:,0]\n",
    "    \n",
    "    #get mutations from the index\n",
    "    mut_names = exp_muts_np[idx][dftemp.to_numpy()]\n",
    "    #sort by binding site \n",
    "    site_values = np.array([site[1:-1] for site in mut_names])\n",
    "    idx_sort = site_values.argsort()\n",
    "    \n",
    "    if len(dftemp.to_numpy()[idx_sort]):\n",
    "        sorted_dict[letter_key] = dftemp.to_numpy()[idx_sort], site_values[idx_sort]\n",
    "    \n",
    "#sorted_dict\n",
    "\n"
   ]
  },
  {
   "cell_type": "code",
   "execution_count": 90,
   "metadata": {},
   "outputs": [
    {
     "data": {
      "text/plain": [
       "<function matplotlib.pyplot.tight_layout(*, pad=1.08, h_pad=None, w_pad=None, rect=None)>"
      ]
     },
     "execution_count": 90,
     "metadata": {},
     "output_type": "execute_result"
    },
    {
     "data": {
      "image/png": "[encoded data removed]",
      "text/plain": [
       "<Figure size 640x480 with 4 Axes>"
      ]
     },
     "metadata": {},
     "output_type": "display_data"
    }
   ],
   "source": [
    "plt.subplot(2,2,1)\n",
    "i = 1\n",
    "for mut_name in sorted_dict.keys():\n",
    "    #plt.figure()\n",
    "    plt.subplot(2,2,i)\n",
    "    mut_site_val =df_exp_data.iloc[idx][\"bind_avg\"].to_numpy()[sorted_dict[mut_name][0]]\n",
    "    site_error = np.abs(mut_site_val - num_66[sorted_dict[mut_name][0]] )\n",
    "    plt.scatter(sorted_dict[mut_name][1], site_error)\n",
    "    plt.title(f\"mutation: {mut_name}\")\n",
    "    #plt.xlabel(\"site\")\n",
    "    i =i +1\n",
    "    if i >4:\n",
    "        break\n",
    "plt.tight_layout"
   ]
  },
  {
   "cell_type": "code",
   "execution_count": 61,
   "metadata": {},
   "outputs": [
    {
     "data": {
      "text/plain": [
       "array(['V341A', 'V350A', 'V362A', 'V367A', 'V382A', 'V395A', 'V401A',\n",
       "       'V407A', 'V433A', 'V445A', 'V483A', 'V503A', 'V510A', 'V511A',\n",
       "       'V512A', 'V524A'], dtype=object)"
      ]
     },
     "execution_count": 61,
     "metadata": {},
     "output_type": "execute_result"
    }
   ],
   "source": [
    "exp_muts_np[idx][sorted_dict[\"V\"]]"
   ]
  },
  {
   "cell_type": "code",
   "execution_count": 37,
   "metadata": {},
   "outputs": [],
   "source": [
    "# V sites: \n",
    "v_site_exp =df_exp_data.iloc[idx][\"bind_avg\"].to_numpy()[sorted_dict[\"V\"]]\n",
    "# delta_delta_G_exp_cal_frist_method\n",
    "error_V = v_site_exp - num_66[sorted_dict[\"V\"]]"
   ]
  },
  {
   "cell_type": "code",
   "execution_count": 38,
   "metadata": {},
   "outputs": [
    {
     "data": {
      "text/plain": [
       "[<matplotlib.lines.Line2D at 0x22249a99b70>]"
      ]
     },
     "execution_count": 38,
     "metadata": {},
     "output_type": "execute_result"
    },
    {
     "data": {
      "image/png": "[encoded data removed]",
      "text/plain": [
       "<Figure size 640x480 with 1 Axes>"
      ]
     },
     "metadata": {},
     "output_type": "display_data"
    }
   ],
   "source": [
    "plt.plot(error_V)"
   ]
  },
  {
   "cell_type": "code",
   "execution_count": 52,
   "metadata": {},
   "outputs": [],
   "source": [
    "v_site_idx = [sorted_dict[\"V\"]]\n",
    "\n",
    "v_arr = exp_muts_np[idx][sorted_dict[\"V\"]]\n",
    "v_vals = np.array([v_arr_val[1:-1] for v_arr_val in v_arr])\n",
    "idx_sort = v_vals.argsort()"
   ]
  },
  {
   "cell_type": "code",
   "execution_count": 55,
   "metadata": {},
   "outputs": [
    {
     "data": {
      "text/plain": [
       "array(['341', '350', '362', '367', '382', '395', '401', '407', '433',\n",
       "       '445', '483', '503', '510', '511', '512', '524'], dtype='<U3')"
      ]
     },
     "execution_count": 55,
     "metadata": {},
     "output_type": "execute_result"
    }
   ],
   "source": [
    "v_vals[idx_sort]"
   ]
  },
  {
   "cell_type": "code",
   "execution_count": 59,
   "metadata": {},
   "outputs": [
    {
     "data": {
      "text/plain": [
       "<matplotlib.collections.PathCollection at 0x2224af10b20>"
      ]
     },
     "execution_count": 59,
     "metadata": {},
     "output_type": "execute_result"
    },
    {
     "data": {
      "image/png": "[encoded data removed]",
      "text/plain": [
       "<Figure size 640x480 with 1 Axes>"
      ]
     },
     "metadata": {},
     "output_type": "display_data"
    }
   ],
   "source": [
    "plt.scatter(v_vals[idx_sort], error_V[idx_sort])"
   ]
  }
 ],
 "metadata": {
  "kernelspec": {
   "display_name": "Python 3",
   "language": "python",
   "name": "python3"
  },
  "language_info": {
   "codemirror_mode": {
    "name": "ipython",
    "version": 3
   },
   "file_extension": ".py",
   "mimetype": "text/x-python",
   "name": "python",
   "nbconvert_exporter": "python",
   "pygments_lexer": "ipython3",
   "version": "3.10.9"
  }
 },
 "nbformat": 4,
 "nbformat_minor": 2
}
