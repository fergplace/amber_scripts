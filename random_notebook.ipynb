{
 "cells": [
  {
   "cell_type": "code",
   "execution_count": 88,
   "metadata": {},
   "outputs": [],
   "source": [
    "import os\n",
    "\n",
    "\n",
    "cwd = os.getcwd()\n",
    "input_fields={\"WILD_TYPE\": [], \n",
    "              \"MUTATIONS\":[],\n",
    "              \"*MDCRD_DIRECTORY\": cwd, \n",
    "              \"LEAP.IN_PATH\" : [], \n",
    "              \"MMPBSA.IN_PATH\": [],\n",
    "              \"MMPBSA.SH_PATH\": []}\n",
    "\n",
    "with open(\"tmp_input_file.txt\", \"r\") as input_file:\n",
    "        for line in input_file:\n",
    "                if line.startswith(\"#input\"):\n",
    "                        tmp_key = line.split() #split\n",
    "                        if tmp_key[2:] != [] : #check for null input \n",
    "                                input_fields[tmp_key[1]] = tmp_key[2:] #for args of len >1 e.g. MUTATIONS\n",
    "                        "
   ]
  },
  {
   "cell_type": "code",
   "execution_count": 92,
   "metadata": {},
   "outputs": [
    {
     "data": {
      "text/plain": [
       "['Y', '505', 'A']"
      ]
     },
     "execution_count": 92,
     "metadata": {},
     "output_type": "execute_result"
    }
   ],
   "source": [
    "input_fields[\"MUTATIONS\"][1].split(\":\")"
   ]
  },
  {
   "cell_type": "code",
   "execution_count": 76,
   "metadata": {},
   "outputs": [],
   "source": [
    "pdbfh = input_fields[\"WILD_TYPE\"]"
   ]
  },
  {
   "cell_type": "code",
   "execution_count": 85,
   "metadata": {},
   "outputs": [],
   "source": [
    "pdbfh[0]\n",
    "name_to = \"ALA\""
   ]
  },
  {
   "cell_type": "code",
   "execution_count": 82,
   "metadata": {},
   "outputs": [
    {
     "data": {
      "text/plain": [
       "['ATOM   6248  N   TYR E 505     -30.003  18.711   6.505  1.00 56.43           N']"
      ]
     },
     "execution_count": 82,
     "metadata": {},
     "output_type": "execute_result"
    }
   ],
   "source": [
    "tmp = [\"ATOM   6248  N   TYR E 505     -30.003  18.711   6.505  1.00 56.43           N\"  ]\n",
    "tmp"
   ]
  },
  {
   "cell_type": "code",
   "execution_count": 83,
   "metadata": {},
   "outputs": [
    {
     "data": {
      "text/plain": [
       "'TYR'"
      ]
     },
     "execution_count": 83,
     "metadata": {},
     "output_type": "execute_result"
    }
   ],
   "source": [
    "line = tmp[0]\n",
    "\n",
    "line[17:20].strip() "
   ]
  },
  {
   "cell_type": "code",
   "execution_count": 84,
   "metadata": {},
   "outputs": [
    {
     "data": {
      "text/plain": [
       "'505'"
      ]
     },
     "execution_count": 84,
     "metadata": {},
     "output_type": "execute_result"
    }
   ],
   "source": [
    "line[22:26].strip()"
   ]
  },
  {
   "cell_type": "code",
   "execution_count": 87,
   "metadata": {},
   "outputs": [
    {
     "data": {
      "text/plain": [
       "'ATOM   6248  N   ALA E 505     -30.003  18.711   6.505  1.00 56.43           N'"
      ]
     },
     "execution_count": 87,
     "metadata": {},
     "output_type": "execute_result"
    }
   ],
   "source": [
    "new_line= line[:17] + name_to.rjust(3) + line[20:]\n",
    "new_line"
   ]
  },
  {
   "cell_type": "code",
   "execution_count": 93,
   "metadata": {},
   "outputs": [],
   "source": [
    "from pdb_splitter import mutations\n",
    "pdbfh = \"6m0j_noHet.pdb\"\n",
    "with open(pdbfh, \"r\") as f :\n",
    "        pdb_data = f.readlines()"
   ]
  },
  {
   "cell_type": "code",
   "execution_count": 99,
   "metadata": {},
   "outputs": [],
   "source": [
    "tmp_list = mutations(pdb_data, \"TYR\", \"ALA\", \"505\")\n",
    "name_from = \"TYR\"\n",
    "name_to = \"ALA\"\n",
    "idx = \"505\""
   ]
  },
  {
   "cell_type": "code",
   "execution_count": 103,
   "metadata": {},
   "outputs": [
    {
     "name": "stdout",
     "output_type": "stream",
     "text": [
      "ATOM   6248  N   TYR E 505     -30.003  18.711   6.505  1.00 56.43           N  \n",
      "\n",
      "ATOM   6249  CA  TYR E 505     -31.328  19.303   6.414  1.00 57.75           C  \n",
      "\n",
      "ATOM   6250  C   TYR E 505     -32.327  18.622   7.334  1.00 55.53           C  \n",
      "\n",
      "ATOM   6251  O   TYR E 505     -33.481  19.051   7.407  1.00 56.25           O  \n",
      "\n",
      "ATOM   6252  CB  TYR E 505     -31.826  19.242   4.960  1.00 54.45           C  \n",
      "\n",
      "ATOM   6253  CG  TYR E 505     -31.221  20.327   4.104  1.00 63.28           C  \n",
      "\n",
      "ATOM   6254  CD1 TYR E 505     -29.926  20.214   3.604  1.00 61.19           C  \n",
      "\n",
      "ATOM   6255  CD2 TYR E 505     -31.937  21.485   3.813  1.00 65.55           C  \n",
      "\n",
      "ATOM   6256  CE1 TYR E 505     -29.364  21.236   2.833  1.00 63.30           C  \n",
      "\n",
      "ATOM   6257  CE2 TYR E 505     -31.389  22.497   3.050  1.00 65.84           C  \n",
      "\n",
      "ATOM   6258  CZ  TYR E 505     -30.103  22.374   2.562  1.00 65.12           C  \n",
      "\n",
      "ATOM   6259  OH  TYR E 505     -29.579  23.399   1.799  1.00 68.06           O  \n",
      "\n"
     ]
    }
   ],
   "source": [
    "counter = 0 \n",
    "records = ('ATOM', 'HETATM', 'TER', 'ANISOU')\n",
    "mutated_cov = [] \n",
    "\n",
    "for line in pdb_data:\n",
    "    if line.startswith(records):\n",
    "        if (line[17:20].strip() in name_from) and (line[22:26].strip() == idx):\n",
    "            print(line)\n",
    "            #add cases here for longer ones... \n",
    "            if counter <= 4 : #count for ALA:  \n",
    "                new_line= line[:17] + name_to.rjust(3) + line[20:]\n",
    "                mutated_cov.append(new_line)\n",
    "                counter = counter + 1 \n",
    "                continue\n",
    "            else :\n",
    "                continue\n",
    "    #mutated_cov.append(line)"
   ]
  },
  {
   "cell_type": "code",
   "execution_count": 101,
   "metadata": {},
   "outputs": [
    {
     "data": {
      "text/plain": [
       "['ATOM    259  N   ALA A  50     -43.418   9.786  -9.999  1.00 68.28           N  \\n',\n",
       " 'ATOM    260  CA  ALA A  50     -43.893   9.422 -11.324  1.00 70.60           C  \\n',\n",
       " 'ATOM    261  C   ALA A  50     -42.866   8.566 -12.052  1.00 69.30           C  \\n',\n",
       " 'ATOM    262  O   ALA A  50     -43.212   7.557 -12.673  1.00 67.75           O  \\n',\n",
       " 'ATOM    263  CB  ALA A  50     -44.224  10.668 -12.151  1.00 71.99           C  \\n']"
      ]
     },
     "execution_count": 101,
     "metadata": {},
     "output_type": "execute_result"
    }
   ],
   "source": [
    "mutated_cov"
   ]
  },
  {
   "cell_type": "code",
   "execution_count": null,
   "metadata": {},
   "outputs": [],
   "source": [
    "if line.startswith(records):\n",
    "    if (line[17:20].strip() in name_from) and (line[22:26].strip() == idx):\n",
    "        #add cases here for longer ones... \n",
    "        if (counter <= 4) and (line[16] == \"A\" or \" \" ): #count for ALA:  \n",
    "            new_line= line[:16] + name_to.rjust(4) + line[20:]\n",
    "            mutated_ligand.append(new_line)\n",
    "            counter = counter + 1 \n",
    "            continue\n",
    "        else :\n",
    "            continue\n",
    "#mutated_ligand.append(line)\n",
    "\n"
   ]
  },
  {
   "cell_type": "code",
   "execution_count": 6,
   "metadata": {},
   "outputs": [
    {
     "data": {
      "text/plain": [
       "False"
      ]
     },
     "execution_count": 6,
     "metadata": {},
     "output_type": "execute_result"
    }
   ],
   "source": [
    "line = \"ATOM   6155  CA AGLN E 493     -39.920  30.982   7.452  0.50 62.36           C \"\n",
    "name_from = \"GLN\"\n",
    "line[16:20].strip() in name_from or "
   ]
  },
  {
   "cell_type": "code",
   "execution_count": 24,
   "metadata": {},
   "outputs": [
    {
     "name": "stdout",
     "output_type": "stream",
     "text": [
      "ATOM   6155  CA  ALA E 493     -39.920  30.982   7.452  0.50 62.36           C \n",
      "ATOM   6155  CA A\n"
     ]
    }
   ],
   "source": [
    "name_to=\"ALA\"\n",
    "print(line[:16] +name_to.rjust(4) + line[20:])\n",
    "print(line[:17])"
   ]
  },
  {
   "cell_type": "code",
   "execution_count": 22,
   "metadata": {},
   "outputs": [
    {
     "data": {
      "text/plain": [
       "True"
      ]
     },
     "execution_count": 22,
     "metadata": {},
     "output_type": "execute_result"
    }
   ],
   "source": [
    "(line[16] == \"A\" or line[16]== \" \") "
   ]
  }
 ],
 "metadata": {
  "kernelspec": {
   "display_name": "Python 3",
   "language": "python",
   "name": "python3"
  },
  "language_info": {
   "codemirror_mode": {
    "name": "ipython",
    "version": 3
   },
   "file_extension": ".py",
   "mimetype": "text/x-python",
   "name": "python",
   "nbconvert_exporter": "python",
   "pygments_lexer": "ipython3",
   "version": "3.10.9"
  }
 },
 "nbformat": 4,
 "nbformat_minor": 2
}
