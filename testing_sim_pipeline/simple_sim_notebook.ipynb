{
 "cells": [
  {
   "cell_type": "code",
   "execution_count": 1,
   "metadata": {},
   "outputs": [],
   "source": [
    "import os\n",
    "import sys\n",
    "import subprocess\n",
    "import numpy as np "
   ]
  },
  {
   "cell_type": "code",
   "execution_count": 20,
   "metadata": {},
   "outputs": [],
   "source": [
    "def pdb_split(pdb_data, option) -> list:\n",
    "    '''\n",
    "    pdb_data    : pdb file we want to split\n",
    "    option      : option will determine if we want to get the receptor or the ligand,\n",
    "    receptor =0, ligand =1 \n",
    "     \n",
    "    returns     : split as a list \n",
    "    '''\n",
    "    #ignore HET and other line starts: \n",
    "    #NOTE: no need to use the no_HET source files, this will strip the files of the HET\n",
    "    ter_state = 0 \n",
    "    records = ('ATOM', 'ANISOU', 'TER')\n",
    "    data = []\n",
    "    \n",
    "    for line in pdb_data:\n",
    "        if line.startswith(records):\n",
    "            if (option == 0) and (ter_state==0)  : \n",
    "                data.append(line)\n",
    "                \n",
    "                if line.startswith('TER') :\n",
    "                    return data #break once we get to first Ter as option 0\n",
    "            \n",
    "            #need to check for Ter after store line starting with Ter due to structure \n",
    "            #of pdb files, TER line belongs to structure. \n",
    "            if line.startswith('TER') and (ter_state==0) :\n",
    "                ter_state =1\n",
    "                continue \n",
    "            if (option == 1 ) and (ter_state==1): \n",
    "                data.append(line)\n",
    "                \n",
    "    return data\n"
   ]
  },
  {
   "cell_type": "code",
   "execution_count": 21,
   "metadata": {},
   "outputs": [],
   "source": [
    "def tleap_in_gen( pdbfh_base_name ): \n",
    "   \n",
    "\ttleap_mut_in = tleap_gen(pdbfh_base_name )\n",
    "\twith open(\"tleap_mut.in\", \"w+\") as tleap : \n",
    "\t\tfor line in tleap_mut_in : \n",
    "\t\t\ttleap.write(f\"{line}\\n\")\n",
    "\t\ttleap.close()\n",
    "\tos.system(f\"dos2unix tleap_mut.in\") #not sure if needed. \n",
    "\ttleap_file_name =\"tleap_mut.in\"\n",
    "    \n",
    "\treturn  tleap_file_name"
   ]
  },
  {
   "cell_type": "code",
   "execution_count": 22,
   "metadata": {},
   "outputs": [],
   "source": [
    "def split_and_mut(pdbfh, pdbfh_base_name) :\n",
    "    with open(pdbfh, \"r\") as f :\n",
    "        pdb_data = f.readlines()\n",
    "    #splits\n",
    "    struct_pdb_data = pdb_split(pdb_data, 0 )\n",
    "    file_handle_structure = pdbfh_base_name + \"_recpt.pdb\"\n",
    "    with open(file_handle_structure, \"w+\") as pdb_file : \n",
    "        for line in struct_pdb_data : \n",
    "            pdb_file.write(f\"{line}\")\n",
    "        pdb_file.close()\n",
    "    ligand_pdb = pdb_split(pdb_data, 1 )\n",
    "    file_handle_ligand = pdbfh_base_name + \"_ligand.pdb\"\n",
    "    with open(file_handle_ligand, \"w+\") as pdb_file : \n",
    "        for line in ligand_pdb : \n",
    "            pdb_file.write(f\"{line}\")\n",
    "        pdb_file.close()"
   ]
  },
  {
   "cell_type": "code",
   "execution_count": 23,
   "metadata": {},
   "outputs": [],
   "source": [
    "def tleap_gen(pdbfh_base_name ) -> list:\n",
    "    '''\n",
    "    pdbfh_base_name     : base name of the pdb file\n",
    "    returns             : tleap file as a list \n",
    " \n",
    "    \n",
    "    '''\n",
    "    #standard leap.in for mut files \n",
    "    #TODO add options for radii, box, FF\n",
    "    #TODO try modern FF, 19SB ; \n",
    "    #OPC and FF19SB protein.leaprc.ff19SB\n",
    "    #leaprc.protein.ff19SB  \n",
    "    #f\"source oldff/leaprc.ff99\",\n",
    "    # f\"source leaprc.water.tip3p\"\n",
    "    #source leaprc.protein.ff19SB\",\n",
    "       # f\"source leaprc.water.opc\",\n",
    "    tleap_wild_in = [f\"source leaprc.protein.ff19SB\",\n",
    "        f\"source leaprc.water.opc\",\n",
    "        f\"set default PBRadii mbondi2\\n\",\n",
    "        f\"com = loadpdb {pdbfh_base_name}.pdb\"  ,\n",
    "        f\"ligand = loadpdb {pdbfh_base_name}_ligand.pdb\" ,\n",
    "        f\"rcp = loadpdb {pdbfh_base_name}_recpt.pdb\\n\",\n",
    "        f\"saveamberparm com {pdbfh_base_name}.prmtop {pdbfh_base_name}.inpcrd\",\n",
    "        f\"saveamberparm ligand {pdbfh_base_name}_ligand.prmtop {pdbfh_base_name}_ligand.inpcrd\",\n",
    "        f\"saveamberparm rcp {pdbfh_base_name}_recpt.prmtop {pdbfh_base_name}_recpt.inpcrd\",\n",
    "        f\"solvatebox com TIP3PBOX 12.0\",\n",
    "        f\"saveamberparm com {pdbfh_base_name}_solvated.prmtop {pdbfh_base_name}_solvated.inpcrd\\n\",\n",
    "        f\"quit\"]\n",
    "    return tleap_wild_in"
   ]
  },
  {
   "cell_type": "code",
   "execution_count": 24,
   "metadata": {},
   "outputs": [],
   "source": [
    "def change_radii_sh( pdbfh_base_name, cwd  ) :\n",
    "    '''\n",
    "\tbash to change radii \n",
    "    '''\n",
    "    \n",
    "    radii_sh = [f\"#!/bin/bash\",\n",
    "        f\"#SBATCH --job-name=run_66_mut\",\n",
    "        f\"#SBATCH --partition=cpu\",\n",
    "        f\"#SBATCH --ntasks=4\",\n",
    "        f\"#SBATCH --cpus-per-task=1\",\n",
    "        f\"#SBATCH --mem=10000\",\n",
    "        f\"#SBATCH --output=run_mmpbsa_66.out\",\n",
    "        f\"#SBATCH --error=run_mmpbsa_66.error\",\n",
    "        f\"#SBATCH --time=72:00:00\",\n",
    "        f'''echo \"Loading modules...\"'''  ,  \n",
    "        f\"module load amber \" ,\n",
    "        f\"source /opt/calstatela/amber-22/amber22/amber.sh\",\n",
    "        f\"\",\n",
    "        f\"tleap -s -f tleap_mut.in > tleap_mut.out\"\n",
    "        f\"\",\n",
    "        f\"{cwd}/change_radii_to_opt.py {pdbfh_base_name}_solvated.prmtop\",\n",
    "        f\"{cwd}/change_radii_to_opt.py {pdbfh_base_name}.prmtop\",\n",
    "        f\"{cwd}/change_radii_to_opt.py {pdbfh_base_name}_ligand.prmtop\",\n",
    "        f\"{cwd}/change_radii_to_opt.py {pdbfh_base_name}_recpt.prmtop\"]\n",
    "\n",
    "    \n",
    "    return radii_sh"
   ]
  },
  {
   "cell_type": "code",
   "execution_count": 25,
   "metadata": {},
   "outputs": [
    {
     "name": "stdout",
     "output_type": "stream",
     "text": [
      "6m0j_noHet.pdb        6m0j_noHet\n"
     ]
    }
   ],
   "source": [
    "pdbfh =\"6m0j_noHet.pdb\"\n",
    "pdbfh_base_name = os.path.basename(pdbfh).split(\".\")[0]\n",
    "\n",
    "print(pdbfh,\"      \", pdbfh_base_name )\n"
   ]
  },
  {
   "cell_type": "code",
   "execution_count": 26,
   "metadata": {},
   "outputs": [],
   "source": [
    "############################## splitting and mutations ##############################\n",
    "split_and_mut(pdbfh, pdbfh_base_name)\n"
   ]
  },
  {
   "cell_type": "code",
   "execution_count": 27,
   "metadata": {},
   "outputs": [],
   "source": [
    "\n",
    "#################################### tleap gen ######################################\n",
    "tleap_file_name = tleap_in_gen(pdbfh_base_name)"
   ]
  },
  {
   "cell_type": "code",
   "execution_count": 31,
   "metadata": {},
   "outputs": [],
   "source": [
    "\n",
    "cwd =  os.getcwd()\n",
    "mut_bash_file = change_radii_sh( pdbfh_base_name, cwd) \n",
    "        \n",
    "with open(\"change_radii.sh\", \"w+\") as mut_bash_sh : \n",
    "\tfor line in mut_bash_file : \n",
    "\t\tmut_bash_sh.write(f\"{line}\\n\")\n",
    "\tmut_bash_sh.close()\n",
    "\trun_MMPBSA_sh_name = \"change_radii.sh\""
   ]
  },
  {
   "cell_type": "code",
   "execution_count": 32,
   "metadata": {},
   "outputs": [],
   "source": [
    "def equil_sh_gen():\n",
    "\n",
    "\tequil_sh = ['''\n",
    "\t#!/bin/bash\n",
    "\t#SBATCH --job-name=run_equil\n",
    "\t#SBATCH --partition=gpu\n",
    "\t#SBATCH --gpus=4\n",
    "\t#SBATCH --cpus-per-gpu=12\n",
    "\t#SBATCH --output=run_equil.out\n",
    "\t#SBATCH --error=run_equil.error\n",
    "\t#SBATCH --time=48:00:00\n",
    "\n",
    "\techo \"Loading modules...\"\n",
    "\tmodule load amber  \n",
    "\tsource /opt/calstatela/amber-22/amber22/amber.sh\n",
    "\n",
    "\t$AMBERHOME/bin/pmemd.cuda -O -i min.in -o min.out -p 6m0j_noHet_solvated.prmtop -c 6m0j_noHet_solvated.inpcrd \\\n",
    "\t-r min.rst \n",
    "\techo \"min done\"\n",
    "\t$AMBERHOME/bin/pmemd.cuda -O -i heat.in -o heat.out -p 6m0j_noHet_solvated.prmtop -c min.rst \\\n",
    "\t-r heat.rst -x heat.mdcrd -ref min.rst\n",
    "\n",
    "\techo \"heat done\"\n",
    "\t$AMBERHOME/bin/pmemd.cuda -O -i density.in -o density.out -p 6m0j_noHet_solvated.BOX.prmtop -c heat.rst \\\n",
    "\t-r density.rst -x density.mdcrd -ref heat.rst\n",
    "\n",
    "\techo \"density done\"\n",
    "\t$AMBERHOME/bin/pmemd.cuda -O -i equil.in -o equil.out -p 6m0j_noHet_solvated.prmtop -c density.rst \\\n",
    "\t-r equil.rst -x equil.mdcrd\n",
    "\t''']\n",
    "\n",
    "\twith open(\"equil.sh\", \"w+\") as equil_sh_file : \n",
    "\t\tfor line in equil_sh : \n",
    "\t\t\tequil_sh_file.write(f\"{line}\\n\")\n",
    "\t\tequil_sh_file.close()\n",
    "\t\tequil_sh_name = \"equil.sh\""
   ]
  },
  {
   "cell_type": "code",
   "execution_count": 35,
   "metadata": {},
   "outputs": [],
   "source": [
    "def run_sim_sh_gen():\n",
    "\n",
    "\tsim_sh = ['''\n",
    "\t#!/bin/bash\n",
    "\n",
    "\t#SBATCH --job-name=run_prod\n",
    "\t#SBATCH --partition=gpu\n",
    "\t#SBATCH --ntasks=4\n",
    "\t#SBATCH --cpus-per-task=12\n",
    "\t#SBATCH --gpus-per-task=1\n",
    "\t#SBATCH --output=run_prod.out\n",
    "\t#SBATCH --error=run_prod.error\n",
    "\t#SBATCH --time=48:00:00\n",
    "\n",
    "\techo \"Loading modules...\"\n",
    "\tmodule load amber  \n",
    "\tsource /opt/calstatela/amber-22/amber22/amber.sh\n",
    "\n",
    "\n",
    "\tmpirun -v -np 4 $AMBERHOME/bin/pmemd.cuda.MPI -O -i prod.in -o prod1.out \\\n",
    "\t-p 6m0j_noHet_solvated.prmtop -c equil.rst -r prod1.rst -x prod1.mdcrd\n",
    "\n",
    "\techo \"prod 1 done ...\"\n",
    "\tmpirun -v -np 4 $AMBERHOME/bin/pmemd.cuda.MPI -O -i prod.in -o prod2.out \\\n",
    "\t-p 6m0j_noHet_solvated.prmtop -c prod1.rst -r prod2.rst -x prod2.mdcrd\n",
    "\n",
    "\techo \"prod 2 done...\"\n",
    "\tmpirun -v -np 4 $AMBERHOME/bin/pmemd.cuda.MPI -O -i prod.in -o prod3.out \\\n",
    "\t-p 06m0j_noHet_solvated.prmtop -c prod2.rst -r prod3.rst -x prod3.mdcrd\n",
    "\n",
    "\techo \"prod 3 done...\"\n",
    "\tmpirun -v -np 4 $AMBERHOME/bin/pmemd.cuda.MPI -O -i prod.in -o prod4.out \\\n",
    "\t-p 6m0j_noHet_solvated.prmtop -c prod3.rst -r prod4.rst -x prod4.mdcrd\n",
    "\t''']\n",
    "\n",
    "\twith open(\"run_sim.sh\", \"w+\") as sim_sh_file : \n",
    "\t\tfor line in sim_sh : \n",
    "\t\t\tsim_sh_file.write(f\"{line}\\n\")\n",
    "\t\tsim_sh_file.close()\n",
    "\t\tequil_sh_name = \"run_sim.sh\"\n"
   ]
  },
  {
   "cell_type": "code",
   "execution_count": 33,
   "metadata": {},
   "outputs": [],
   "source": [
    "equil_sh_gen()"
   ]
  },
  {
   "cell_type": "code",
   "execution_count": 36,
   "metadata": {},
   "outputs": [],
   "source": [
    "run_sim_sh_gen()"
   ]
  },
  {
   "cell_type": "code",
   "execution_count": 8,
   "metadata": {},
   "outputs": [
    {
     "data": {
      "text/plain": [
       "<module 'sim_setup' from 'c:\\\\Users\\\\13108\\\\Documents\\\\GitHub\\\\amber_scripts\\\\testing_sim_pipeline\\\\sim_setup.py'>"
      ]
     },
     "execution_count": 8,
     "metadata": {},
     "output_type": "execute_result"
    }
   ],
   "source": [
    "import sim_setup \n",
    "from importlib import reload\n",
    "reload(sim_setup)"
   ]
  },
  {
   "cell_type": "code",
   "execution_count": null,
   "metadata": {},
   "outputs": [],
   "source": []
  },
  {
   "cell_type": "code",
   "execution_count": 9,
   "metadata": {},
   "outputs": [],
   "source": [
    "sim_setup.main(\"6m0j_noHetASN21.pdb\")"
   ]
  }
 ],
 "metadata": {
  "kernelspec": {
   "display_name": "Python 3",
   "language": "python",
   "name": "python3"
  },
  "language_info": {
   "codemirror_mode": {
    "name": "ipython",
    "version": 3
   },
   "file_extension": ".py",
   "mimetype": "text/x-python",
   "name": "python",
   "nbconvert_exporter": "python",
   "pygments_lexer": "ipython3",
   "version": "3.10.9"
  }
 },
 "nbformat": 4,
 "nbformat_minor": 2
}
